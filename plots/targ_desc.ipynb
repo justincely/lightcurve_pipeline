{
 "cells": [
  {
   "cell_type": "code",
   "execution_count": 1,
   "metadata": {
    "collapsed": false
   },
   "outputs": [],
   "source": [
    "from collections import defaultdict\n",
    "import glob\n",
    "from astropy.io import fits\n",
    "import matplotlib.pyplot as plt\n",
    "import matplotlib.cm as cm\n",
    "import os\n",
    "from bokeh.plotting import *\n",
    "from bokeh.palettes import Spectral11\n",
    "from numpy import pi"
   ]
  },
  {
   "cell_type": "code",
   "execution_count": 2,
   "metadata": {
    "collapsed": false
   },
   "outputs": [],
   "source": [
    "# Build list of files to grab target descriptions from\n",
    "subdirs = glob.glob('/grp/hst/hstlc/hst13902/filesystem/*')\n",
    "filelist = []\n",
    "for subdir in subdirs:\n",
    "    filelist.append(glob.glob(os.path.join(subdir, '*.fits'))[0])"
   ]
  },
  {
   "cell_type": "code",
   "execution_count": 3,
   "metadata": {
    "collapsed": false
   },
   "outputs": [],
   "source": [
    "# Build lists of target descriptions\n",
    "num_files = len(filelist)\n",
    "target_descriptions = []\n",
    "for filename in filelist:\n",
    "    with fits.open(filename, 'readonly') as hdulist:\n",
    "        target_descriptions.append(hdulist[0].header.get('TARDESCR','') + hdulist[0].header.get('TARDESC2',''))"
   ]
  },
  {
   "cell_type": "code",
   "execution_count": 4,
   "metadata": {
    "collapsed": true
   },
   "outputs": [],
   "source": [
    "# Initialize dictionary\n",
    "target_dict = {\n",
    "    'SATELLITE' : 0,\n",
    "    'PLANET' : 0,\n",
    "    'ASTEROID' : 0,\n",
    "    'COMET' : 0,\n",
    "    'IGM' : 0,\n",
    "    'ISM' : 0,\n",
    "    'GALAXY' : 0,\n",
    "    'QSO' : 0,\n",
    "    'QUASAR' : 0,\n",
    "    'STAR' : 0,\n",
    "    'DA' : 0,\n",
    "    'DB' : 0\n",
    "}"
   ]
  },
  {
   "cell_type": "code",
   "execution_count": 5,
   "metadata": {
    "collapsed": false
   },
   "outputs": [],
   "source": [
    "# Populate the dictionary\n",
    "for target in target_descriptions:\n",
    "    for key in target_dict.keys():\n",
    "        if key in target:\n",
    "            target_dict[key] += 1"
   ]
  },
  {
   "cell_type": "code",
   "execution_count": 6,
   "metadata": {
    "collapsed": false
   },
   "outputs": [
    {
     "data": {
      "text/plain": [
       "{'ASTEROID': 1,\n",
       " 'COMET': 10,\n",
       " 'DA': 8,\n",
       " 'DB': 4,\n",
       " 'GALAXY': 26,\n",
       " 'IGM': 0,\n",
       " 'ISM': 25,\n",
       " 'PLANET': 65,\n",
       " 'QSO': 14,\n",
       " 'QUASAR': 0,\n",
       " 'SATELLITE': 8,\n",
       " 'STAR': 123}"
      ]
     },
     "execution_count": 6,
     "metadata": {},
     "output_type": "execute_result"
    }
   ],
   "source": [
    "target_dict"
   ]
  },
  {
   "cell_type": "code",
   "execution_count": 7,
   "metadata": {
    "collapsed": false
   },
   "outputs": [],
   "source": [
    "# Make pie chart with matplotlib\n",
    "fig = plt.figure()\n",
    "ax1 = fig.add_subplot(111)\n",
    "\n",
    "# Define the colors\n",
    "color_map = cm.get_cmap('Spectral')\n",
    "num_of_colors = len(target_dict.keys())\n",
    "colors = color_map([x/float(num_of_colors) for x in range(num_of_colors)])\n",
    "\n",
    "# Plot the pie chart\n",
    "wedges = ax1.pie(target_dict.values(),\n",
    "                 labels = target_dict.keys(),\n",
    "                 startangle=90,\n",
    "                 labeldistance=1.10,\n",
    "                 colors=colors)\n",
    "ax1.axis('equal')\n",
    "\n",
    "# change the edgecolor for each wedge\n",
    "for wedge in wedges[0]:\n",
    "    wedge.set_edgecolor('w')\n",
    "\n",
    "# Save and close\n",
    "plt.legend()\n",
    "plt.savefig('target_pie_chart.png')\n",
    "plt.close()"
   ]
  },
  {
   "cell_type": "code",
   "execution_count": 8,
   "metadata": {
    "collapsed": false
   },
   "outputs": [],
   "source": [
    "# Make pie chart with bokeh\n",
    "\n",
    "# Build wedges\n",
    "percents = [0.0]\n",
    "aggregate_percentage = 0.0\n",
    "for target in target_dict.keys():\n",
    "    percentage = target_dict[target] / float(sum(target_dict.values()))\n",
    "    aggregate_percentage += percentage\n",
    "    percents.append(aggregate_percentage)\n",
    "starts = [p*2*pi for p in percents[:-1]]\n",
    "ends = [p*2*pi for p in percents[1:]]\n",
    "\n",
    "# Build figure\n",
    "colors = Spectral11\n",
    "colors.append('#3366ff')\n",
    "p = figure(x_range=(-1.5,1.5), y_range=(-1.5,1.5))\n",
    "for label, start, end, color in zip(target_dict.keys(), starts, ends, colors):\n",
    "    p.wedge(x=0, y=0, radius=1, start_angle=start, end_angle=end, color=color, legend=label)\n",
    "\n",
    "# # Build labels\n",
    "# y = -0.5\n",
    "# for target, color in zip(target_dict.keys(), colors):\n",
    "#     p.text(x=1.1, y=y, text=[target], text_color=color)\n",
    "#     y += 0.1\n",
    "\n",
    "# Save figure\n",
    "output_file(\"target_pie_chart.html\")\n",
    "show(p)"
   ]
  },
  {
   "cell_type": "code",
   "execution_count": null,
   "metadata": {
    "collapsed": true
   },
   "outputs": [],
   "source": []
  }
 ],
 "metadata": {
  "kernelspec": {
   "display_name": "Python 2",
   "language": "python",
   "name": "python2"
  },
  "language_info": {
   "codemirror_mode": {
    "name": "ipython",
    "version": 2
   },
   "file_extension": ".py",
   "mimetype": "text/x-python",
   "name": "python",
   "nbconvert_exporter": "python",
   "pygments_lexer": "ipython2",
   "version": "2.7.10"
  }
 },
 "nbformat": 4,
 "nbformat_minor": 0
}
