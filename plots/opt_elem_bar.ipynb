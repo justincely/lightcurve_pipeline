{
 "cells": [
  {
   "cell_type": "code",
   "execution_count": 47,
   "metadata": {
    "collapsed": true
   },
   "outputs": [],
   "source": [
    "from collections import OrderedDict\n",
    "from bokeh.charts import Bar, output_file, show\n",
    "from lightcurve_pipeline.utils.utils import SETTINGS\n",
    "from lightcurve_pipeline.database.database_interface import session\n",
    "from lightcurve_pipeline.database.database_interface import Metadata"
   ]
  },
  {
   "cell_type": "code",
   "execution_count": 48,
   "metadata": {
    "collapsed": true
   },
   "outputs": [],
   "source": [
    "# Query for data\n",
    "query = session.query(Metadata.instrume, Metadata.opt_elem).all()\n",
    "instrumes = [result[0] for result in query]\n",
    "opt_elems = [result[1] for result in query]\n",
    "opt_elems_set = sorted(list(set(opt_elems)))"
   ]
  },
  {
   "cell_type": "code",
   "execution_count": 49,
   "metadata": {
    "collapsed": false
   },
   "outputs": [],
   "source": [
    "# Initialize dictionaries that store all optical elements\n",
    "cos_dict, stis_dict = {}, {}\n",
    "for opt_elem in opt_elems_set:\n",
    "    cos_dict[opt_elem] = 0\n",
    "    stis_dict[opt_elem] = 0"
   ]
  },
  {
   "cell_type": "code",
   "execution_count": 50,
   "metadata": {
    "collapsed": false
   },
   "outputs": [],
   "source": [
    "# Count number of opt_elems\n",
    "for instrument, opt_elem in zip(instrumes, opt_elems):\n",
    "    if instrument == 'COS':\n",
    "        cos_dict[opt_elem] += 1\n",
    "    elif instrument == 'STIS':\n",
    "        stis_dict[opt_elem] += 1"
   ]
  },
  {
   "cell_type": "code",
   "execution_count": 52,
   "metadata": {
    "collapsed": false
   },
   "outputs": [],
   "source": [
    "cat = list(opt_elems_set)\n",
    "xyvalues = OrderedDict()\n",
    "xyvalues['COS'] = [cos_dict[opt_elem] for opt_elem in opt_elems_set]\n",
    "xyvalues['STIS'] = [stis_dict[opt_elem] for opt_elem in opt_elems_set]"
   ]
  },
  {
   "cell_type": "code",
   "execution_count": 53,
   "metadata": {
    "collapsed": false
   },
   "outputs": [],
   "source": [
    "bar = Bar(xyvalues, \n",
    "          cat, \n",
    "          xlabel=\"Optical Element\", \n",
    "          ylabel=\"Num of Composites\", \n",
    "          stacked=True,\n",
    "          legend = \"top_right\")\n",
    "\n",
    "output_file(\"opt_elem.html\")\n",
    "show(bar)"
   ]
  },
  {
   "cell_type": "code",
   "execution_count": null,
   "metadata": {
    "collapsed": true
   },
   "outputs": [],
   "source": []
  }
 ],
 "metadata": {
  "kernelspec": {
   "display_name": "Python 2",
   "language": "python",
   "name": "python2"
  },
  "language_info": {
   "codemirror_mode": {
    "name": "ipython",
    "version": 2
   },
   "file_extension": ".py",
   "mimetype": "text/x-python",
   "name": "python",
   "nbconvert_exporter": "python",
   "pygments_lexer": "ipython2",
   "version": "2.7.10"
  }
 },
 "nbformat": 4,
 "nbformat_minor": 0
}
