{
 "cells": [
  {
   "cell_type": "code",
   "execution_count": null,
   "metadata": {
    "collapsed": false
   },
   "outputs": [],
   "source": [
    "import matplotlib.pyplot as plt\n",
    "from lightcurve_pipeline.utils.utils import SETTINGS\n",
    "from lightcurve_pipeline.database.database_interface import engine\n",
    "from lightcurve_pipeline.database.database_interface import session\n",
    "from lightcurve_pipeline.database.database_interface import Stats"
   ]
  },
  {
   "cell_type": "code",
   "execution_count": null,
   "metadata": {
    "collapsed": false
   },
   "outputs": [],
   "source": [
    "# Make plot of 'poisson factor' for all lightcurves\n",
    "stats = session.query(Stats).all()\n",
    "poisson_factor_all = [item.poisson_factor for item in stats if item.poisson_factor is not None]\n",
    "poisson_factor = [pf for pf in poisson_factor_all if pf < 10]\n",
    "fig = plt.figure()\n",
    "ax = fig.add_subplot(111)\n",
    "ax.set_xlim((0, 10))\n",
    "ax.hist(poisson_factor, bins=100)\n",
    "ax.set_xlabel(r'stdev / $\\mu$')\n",
    "ax.set_title('Poisson Factor (all)')\n",
    "ax.text(4, 4000, '{} lightcuves > 10 (max={})'.format(len(poisson_factor_all) - len(poisson_factor), max(poisson_factor_all)), size=10)\n",
    "plt.savefig('poisson_histogram.png')\n",
    "plt.close()"
   ]
  },
  {
   "cell_type": "code",
   "execution_count": null,
   "metadata": {
    "collapsed": false
   },
   "outputs": [],
   "source": [
    "# Make plot of 'poisson factor' for only composite lightcurves\n",
    "stats = session.query(Stats).all()\n",
    "stats = session.query(Stats).all()\n",
    "poisson_factor_all = [item.poisson_factor for item in stats if item.poisson_factor is not None and 'composite' in item.lightcurve_path]\n",
    "poisson_factor = [pf for pf in poisson_factor_all if pf < 10]\n",
    "fig = plt.figure()\n",
    "ax = fig.add_subplot(111)\n",
    "ax.set_xlim((0, 10))\n",
    "ax.hist(poisson_factor, bins=100)\n",
    "ax.set_xlabel(r'stdev / $\\mu$')\n",
    "ax.set_title('Poisson Factor (composite only)')\n",
    "ax.text(4, 1000, '{} lightcuves > 10 (max={})'.format(len(poisson_factor_all) - len(poisson_factor), max(poisson_factor_all)), size=10)\n",
    "plt.savefig('poisson_histogram_composite.png')\n",
    "plt.close()"
   ]
  },
  {
   "cell_type": "code",
   "execution_count": null,
   "metadata": {
    "collapsed": true
   },
   "outputs": [],
   "source": []
  }
 ],
 "metadata": {
  "kernelspec": {
   "display_name": "Python 2",
   "language": "python",
   "name": "python2"
  },
  "language_info": {
   "codemirror_mode": {
    "name": "ipython",
    "version": 2
   },
   "file_extension": ".py",
   "mimetype": "text/x-python",
   "name": "python",
   "nbconvert_exporter": "python",
   "pygments_lexer": "ipython2",
   "version": "2.7.10"
  }
 },
 "nbformat": 4,
 "nbformat_minor": 0
}
