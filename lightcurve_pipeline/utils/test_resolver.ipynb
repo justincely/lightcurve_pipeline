{
 "cells": [
  {
   "cell_type": "code",
   "execution_count": 1,
   "metadata": {
    "collapsed": false
   },
   "outputs": [],
   "source": [
    "from lightcurve_pipeline.ingest.resolve import resolve\n",
    "from lightcurve_pipeline.utils.utils import SETTINGS\n",
    "from lightcurve_pipeline.database.database_interface import session\n",
    "from lightcurve_pipeline.database.database_interface import Metadata"
   ]
  },
  {
   "cell_type": "code",
   "execution_count": 2,
   "metadata": {
    "collapsed": true
   },
   "outputs": [],
   "source": [
    "query = session.query(Metadata.targname).all()\n",
    "results = set([result[0] for result in query])"
   ]
  },
  {
   "cell_type": "code",
   "execution_count": 3,
   "metadata": {
    "collapsed": false
   },
   "outputs": [],
   "source": [
    "resolve_dict = {}"
   ]
  },
  {
   "cell_type": "code",
   "execution_count": 4,
   "metadata": {
    "collapsed": false
   },
   "outputs": [],
   "source": [
    "for targname in results:\n",
    "    try:\n",
    "        resolve_dict[targname] = resolve(targname)\n",
    "    except:\n",
    "        resolve_dict[targname] = 'NULL'"
   ]
  },
  {
   "cell_type": "code",
   "execution_count": 6,
   "metadata": {
    "collapsed": false
   },
   "outputs": [],
   "source": [
    "counter, null_counter = 0, 0\n",
    "for item in resolve_dict.iteritems():\n",
    "    if not len(item[1]) or item[1] == 'NULL':\n",
    "        null_counter += 1\n",
    "    else:\n",
    "        counter += 1"
   ]
  },
  {
   "cell_type": "code",
   "execution_count": 7,
   "metadata": {
    "collapsed": false
   },
   "outputs": [
    {
     "name": "stdout",
     "output_type": "stream",
     "text": [
      "348 1397 1745\n"
     ]
    }
   ],
   "source": [
    "print counter, null_counter, counter + null_counter"
   ]
  },
  {
   "cell_type": "code",
   "execution_count": null,
   "metadata": {
    "collapsed": true
   },
   "outputs": [],
   "source": []
  }
 ],
 "metadata": {
  "kernelspec": {
   "display_name": "Python 2",
   "language": "python",
   "name": "python2"
  },
  "language_info": {
   "codemirror_mode": {
    "name": "ipython",
    "version": 2
   },
   "file_extension": ".py",
   "mimetype": "text/x-python",
   "name": "python",
   "nbconvert_exporter": "python",
   "pygments_lexer": "ipython2",
   "version": "2.7.10"
  }
 },
 "nbformat": 4,
 "nbformat_minor": 0
}
