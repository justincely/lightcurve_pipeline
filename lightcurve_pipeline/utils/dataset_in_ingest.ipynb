{
 "metadata": {
  "name": "",
  "signature": "sha256:9f36bd9066924f16fcc302d453e0739ed6a998261092fcf0d6124f979a98e8fc"
 },
 "nbformat": 3,
 "nbformat_minor": 0,
 "worksheets": [
  {
   "cells": [
    {
     "cell_type": "code",
     "collapsed": false,
     "input": [
      "import glob\n",
      "import os"
     ],
     "language": "python",
     "metadata": {},
     "outputs": [],
     "prompt_number": 35
    },
    {
     "cell_type": "code",
     "collapsed": false,
     "input": [
      "stis_rootnames_in_ingest = glob.glob('/grp/hst/hstlc/hst13902/ingest/o*.fits')\n",
      "stis_rootnames_in_ingest = set([os.path.basename(item).split('_')[0] for item in stis_rootnames_in_ingest])"
     ],
     "language": "python",
     "metadata": {},
     "outputs": [],
     "prompt_number": 36
    },
    {
     "cell_type": "code",
     "collapsed": false,
     "input": [
      "with open('/grp/hst/hstlc/stis_download_test/stis_science_downloads.dat') as f:\n",
      "    stis_rootnames_in_science = f.readlines()\n",
      "stis_rootnames_in_science = set([item.strip() for item in stis_rootnames_in_science])"
     ],
     "language": "python",
     "metadata": {},
     "outputs": [],
     "prompt_number": 37
    },
    {
     "cell_type": "code",
     "collapsed": false,
     "input": [
      "with open('/grp/hst/hstlc/stis_download_test/stis_repeatobs_downloads.dat') as f:\n",
      "    stis_rootnames_in_repeatobs = f.readlines()\n",
      "stis_rootnames_in_repeatobs = set([item.strip() for item in stis_rootnames_in_repeatobs])"
     ],
     "language": "python",
     "metadata": {},
     "outputs": [],
     "prompt_number": 38
    },
    {
     "cell_type": "code",
     "collapsed": false,
     "input": [
      "with open('/grp/hst/hstlc/stis_download_test/stis_product_downloads.dat') as f:\n",
      "    stis_rootnames_in_products = f.readlines()\n",
      "stis_rootnames_in_products = set([item.strip() for item in stis_rootnames_in_products])"
     ],
     "language": "python",
     "metadata": {},
     "outputs": [],
     "prompt_number": 39
    },
    {
     "cell_type": "code",
     "collapsed": false,
     "input": [
      "with open('/grp/hst/hstlc/stis_download_test/stis_gowavecal_downloads.dat') as f:\n",
      "    stis_rootnames_in_gowavecal = f.readlines()\n",
      "stis_rootnames_in_gowavecal = set([item.strip() for item in stis_rootnames_in_gowavecal])"
     ],
     "language": "python",
     "metadata": {},
     "outputs": [],
     "prompt_number": 40
    },
    {
     "cell_type": "code",
     "collapsed": false,
     "input": [
      "with open('/grp/hst/hstlc/stis_download_test/stis_autowavecal_downloads.dat') as f:\n",
      "    stis_rootnames_in_autowavecal = f.readlines()\n",
      "stis_rootnames_in_autowavecal = set([item.strip() for item in stis_rootnames_in_autowavecal])"
     ],
     "language": "python",
     "metadata": {},
     "outputs": [],
     "prompt_number": 41
    },
    {
     "cell_type": "code",
     "collapsed": false,
     "input": [
      "print len(stis_rootnames_in_science)\n",
      "print len(stis_rootnames_in_ingest)\n",
      "print len(stis_rootnames_in_science - stis_rootnames_in_ingest)"
     ],
     "language": "python",
     "metadata": {},
     "outputs": [
      {
       "output_type": "stream",
       "stream": "stdout",
       "text": [
        "1343\n",
        "1924\n",
        "1343\n"
       ]
      }
     ],
     "prompt_number": 42
    },
    {
     "cell_type": "code",
     "collapsed": false,
     "input": [
      "print len(stis_rootnames_in_repeatobs)\n",
      "print len(stis_rootnames_in_ingest)\n",
      "print len(stis_rootnames_in_repeatobs - stis_rootnames_in_ingest)"
     ],
     "language": "python",
     "metadata": {},
     "outputs": [
      {
       "output_type": "stream",
       "stream": "stdout",
       "text": [
        "16\n",
        "1924\n",
        "16\n"
       ]
      }
     ],
     "prompt_number": 43
    },
    {
     "cell_type": "code",
     "collapsed": false,
     "input": [
      "print len(stis_rootnames_in_products)\n",
      "print len(stis_rootnames_in_ingest)\n",
      "print len(stis_rootnames_in_products - stis_rootnames_in_ingest)"
     ],
     "language": "python",
     "metadata": {},
     "outputs": [
      {
       "output_type": "stream",
       "stream": "stdout",
       "text": [
        "1359\n",
        "1924\n",
        "0\n"
       ]
      }
     ],
     "prompt_number": 44
    },
    {
     "cell_type": "code",
     "collapsed": false,
     "input": [
      "print len(stis_rootnames_in_gowavecal)\n",
      "print len(stis_rootnames_in_ingest)\n",
      "print len(stis_rootnames_in_gowavecal - stis_rootnames_in_ingest)"
     ],
     "language": "python",
     "metadata": {},
     "outputs": [
      {
       "output_type": "stream",
       "stream": "stdout",
       "text": [
        "51\n",
        "1924\n",
        "51\n"
       ]
      }
     ],
     "prompt_number": 45
    },
    {
     "cell_type": "code",
     "collapsed": false,
     "input": [
      "print len(stis_rootnames_in_autowavecal)\n",
      "print len(stis_rootnames_in_ingest)\n",
      "print len(stis_rootnames_in_autowavecal - stis_rootnames_in_ingest)"
     ],
     "language": "python",
     "metadata": {},
     "outputs": [
      {
       "output_type": "stream",
       "stream": "stdout",
       "text": [
        "1288\n",
        "1924\n",
        "1288\n"
       ]
      }
     ],
     "prompt_number": 46
    },
    {
     "cell_type": "code",
     "collapsed": false,
     "input": [
      "leftover_members = stis_rootnames_in_ingest - stis_rootnames_in_products"
     ],
     "language": "python",
     "metadata": {},
     "outputs": [],
     "prompt_number": 47
    },
    {
     "cell_type": "code",
     "collapsed": false,
     "input": [
      "print len(leftover_members)\n",
      "print len(stis_rootnames_in_science)\n",
      "print len(stis_rootnames_in_science - leftover_members)\n",
      "print len(leftover_members - stis_rootnames_in_science)\n",
      "print len(leftover_members - stis_rootnames_in_products)"
     ],
     "language": "python",
     "metadata": {},
     "outputs": [
      {
       "output_type": "stream",
       "stream": "stdout",
       "text": [
        "565\n",
        "1343\n",
        "1343\n",
        "565\n",
        "565\n"
       ]
      }
     ],
     "prompt_number": 52
    },
    {
     "cell_type": "code",
     "collapsed": false,
     "input": [
      "print leftover_members"
     ],
     "language": "python",
     "metadata": {},
     "outputs": [
      {
       "output_type": "stream",
       "stream": "stdout",
       "text": [
        "set(['o5hyb6g3q', 'o6bba1ciq', 'obro01f9q', 'o8ac41bmq', 'o40q02nmq', 'o5dta1tpq', 'oc1z01loq', 'o5hyd3znq', 'o63d01v7q', 'o55002ddq', 'obzm01q2q', 'obz503hdq', 'oc0vb2wtq', 'obro03nyq', 'o5hya5bvq', 'o43bc9bdq', 'o6ba03v2q', 'o5hqb7iaq', 'o43ba2h6q', 'o6baa4cjq', 'obz502jbq', 'oc2aa5sqq', 'o8wi02ccq', 'o6baa7xmq', 'o5hqc5h0q', 'o6ba06s0q', 'o5hqc6pdq', 'obro01fkq', 'o6cn11vlq', 'o5cc02a1q', 'o68903egq', 'o8wi02c6q', 'o5hra2cfq', 'o40q01a3q', 'oc1z02u2q', 'o5hy04hsq', 'ob3003g5q', 'o8k801qbq', 'o5hqb6p9q', 'ocpl02nzq', 'o8wi07kuq', 'o6cn08pqq', 'o5hqa6p7q', 'o66e01a3q', 'o8k801pvq', 'o6cn13r9q', 'o8wi02dkq', 'obro03nwq', 'o5hya4icq', 'occgk4ncq', 'obhu31buq', 'o5hqb3kjq', 'o6cl54ibq', 'o8k802fvq', 'o43b2txmq', 'o5hyb6fxq', 'o8wi09moq', 'o8wi13lrq', 'o43b14siq', 'o4wt01t2q', 'obz501dgq', 'obrx12ceq', 'o6gn02vhq', 'oc1z08ejq', 'o6be04znq', 'obqd03qwq', 'obrx17b5q', 'oc1z13baq', 'o5ek05lqq', 'o6bab1p6q', 'o6cn03ceq', 'oc2aa4t0q', 'o6ba07wwq', 'obz505j1q', 'o68902ycq', 'o6cl13a1q', 'o5hy02tyq', 'obz506jwq', 'o6ba04bxq', 'o6cr03lkq', 'ocpl02o6q', 'o6cn23lbq', 'o5hyb5euq', 'o6baa2neq', 'o5cc05jhq', 'occgk2dfq', 'o66e10uhq', 'o8ac40rwq', 'o5g2c1bzq', 'o5g2g1cdq', 'oc1z09faq', 'o8wi12qwq', 'ochz03dwq', 'o6cn22q2q', 'o5hya5bjq', 'o66e03olq', 'o6ba04cdq', 'o6cn17woq', 'o43ba1bpq', 'o55001d7q', 'o6be15m9q', 'o8wi07koq', 'o8wi06baq', 'o5hqe3kvq', 'o4bd02zrq', 'o6cl12exq', 'o5cc03d1q', 'o6ba01o3q', 'oc0va1r4q', 'oc0v01r0q', 'o8wi02d9q', 'o4wt02bpq', 'o6cl14lxq', 'o6ba03utq', 'o5hra2c1q', 'o8wi01s7q', 'o63d02q4q', 'o4bd01yeq', 'o66e06lqq', 'o4wm02euq', 'o8wi03dyq', 'o6gn02vfq', 'o63d04ehq', 'oc2a01sgq', 'o66e02k7q', 'o6ba05biq', 'o68901kkq', 'o4xm01hrq', 'o5g2e1c5q', 'obqd01xuq', 'obro02nuq', 'oc1z13b4q', 'obz506jtq', 'o6ba01nwq', 'oc0vb4e2q', 'o6cl12evq', 'obz507j7q', 'o5hya1qoq', 'o6baa4d2q', 'o6be03xzq', 'o55001d9q', 'o5hqa3khq', 'o5hyb3zfq', 'o6cn23leq', 'occgk3riq', 'o6be06p3q', 'oc1z06ayq', 'o43b2sxiq', 'o6jn04tmq', 'o5ek05lsq', 'o6gn04ygq', 'o6ba03vqq', 'o5cc02a3q', 'o6cn14whq', 'o43ba4duq', 'o6cn24l3q', 'o4bda5kcq', 'o43ba5c7q', 'o5hyb5eqq', 'o6baa6ssq', 'occgk3r2q', 'o5hy02u4q', 'oc0va6xjq', 'o5cc01oqq', 'o5hyb6fzq', 'o5cc06k1q', 'o5cc03czq', 'ocpl03r3q', 'o6cl11ogq', 'o5hya5bnq', 'o6cn17wmq', 'occgk3rgq', 'o4hs01ghq', 'o6ba05acq', 'obrx18hbq', 'o6gn03amq', 'oc0va3jiq', 'o5hyb6fvq', 'o8wi05h2q', 'o66e05lhq', 'o5dta2ocq', 'oc0v06xhq', 'oc0va5rmq', 'o5dta1tvq', 'oc1z01luq', 'o6baa5boq', 'o5hya1qkq', 'obz503hbq', 'o6ba03vhq', 'o5e101g5q', 'o6cn20ais', 'o5hya5bpq', 'obrx19abq', 'obroa1foq', 'o6baa3w3q', 'occgk4mxq', 'o4wm02eqq', 'obz502jdq', 'oc0vb1raq', 'o5hya1qqq', 'obhud2uaq', 'o66e02k3q', 'o8wi02cyq', 'o5g2c1c1q', 'o63d05gdq', 'o43bb9bbq', 'ochz05ftq', 'o5hqb5guq', 'o6ba02moq', 'occgk2cvq', 'o6be02ceq', 'o55003dhq', 'o5hyb5ekq', 'o5hyc3zhq', 'o5cc04gkq', 'o6ba05b0q', 'o6cn05o2q', 'obro01fmq', 'o6cl54idq', 'obz511yaq', 'o66e10ufq', 'o43ba6bzq', 'o8wi11i0q', 'oc0v07o9q', 'o6gn01lgq', 'oc1z04b4q', 'o6cn06o8q', 'o5hy02twq', 'o5hyb3zbq', 'o5hrb1viq', 'o4bd03awq', 'o43b2rxeq', 'o57fa2ioq', 'o6ba07xeq', 'oc0v02wpq', 'oc2a02skq', 'oc1z09f4q', 'obro02nmq', 'o6ba02mqq', 'o43ba3m6q', 'o66e07lzq', 'o6cn18adq', 'o6baa6soq', 'o6baa5bqq', 'o40f01q7q', 'o6cn09u5q', 'oc1z05haq', 'ochz08fyq', 'oc2a05soq', 'o6ba02mhq', 'o6jn03bnq', 'ocpl01i7q', 'o5dta2o6q', 'o4wm02esq', 'ochz09qrq', 'o6cn16l2q', 'o4bd03ayq', 'o68903daq', 'o6bab7ycq', 'o6ba01olq', 'o66e11anq', 'o6baa6t8q', 'o8k801pqq', 'o6cl14lvq', 'o5hqc3knq', 'o40q02nkq', 'obz507j9q', 'obzm01qkq', 'o5hyb6g1q', 'o5hya4i8q', 'o63d01v5q', 'o5ek01e0q', 'o5hyd3zlq', 'o5hqb7i8q', 'occgk1itq', 'o6ba04boq', 'o6baa6tgq', 'oc1z03ybq', 'oc1z10hrq', 'o43ba1bnq', 'o5e101g1q', 'o5hya5btq', 'o63d54u5q', 'o6ba03v0q', 'oc0v03jgq', 'o6ba05auq', 'o5hqa7i6q', 'o6ba04bvq', 'o66e09cmq', 'ob3002fzq', 'ochz07p2q', 'oc2a04syq', 'o5cc06jzq', 'oc7u03scq', 'o5hqc6pfq', 'o5hqc3kpq', 'o6ba06s2q', 'occgk3r8q', 'o5g2g1cbq', 'obrx02evq', 'o43b13s4q', 'o5dta1u1q', 'o40q01a5q', 'occgk3raq', 'o4hs01gfq', 'o6cn03ciq', 'o6jn03bpq', 'o6cn01niq', 'o6cn12y0q', 'o66e06lmq', 'o6baa7y4q', 'occgk4n6q', 'o43b5hxgq', 'o6cr03lgq', 'ochz06evq', 'oc1z06b4q', 'o68902xrq', 'o6cn13rbq', 'o6ba01o5q', 'o6cr01x3q', 'o5dta2nyq', 'obrx14gvq', 'o8k801qgq', 'o6cl11ooq', 'o5hya4iaq', 'o6cl13a3q', 'occgk4neq', 'o4wm02eoq', 'o40f01plq', 'o43b2txkq', 'obrx04c6q', 'obhu32twq', 'oc2aa2smq', 'o6be01oqq', 'o6ba03voq', 'o8wi02csq', 'oc1z12mjq', 'o66e04tpq', 'ob3001xqq', 'o5hyb6g5q', 'o8wi08bdq', 'oc1z02twq', 'o8wi12r3q', 'o6gn04y9q', 'oc7u02g2q', 'obrx08dqq', 'o43ba2h4q', 'o6ba07wyq', 'o4wm02eyq', 'oc1z11lfq', 'obrx06j5q', 'ocpl07ckq', 'o6cn07oeq', 'o6baa7xoq', 'o4bd04vmq', 'o43be9bjq', 'occgk4n4q', 'o66e04tnq', 'o6ba02n5q', 'obhu21btq', 'o8wi02chq', 'oc2aa1siq', 'o5hqe3kxq', 'o6cn22q4q', 'o6cn11vnq', 'o5hya1qsq', 'o5hqa5gsq', 'o6cn24l0q', 'o66e03onq', 'oc0va4e0q', 'ocpl05q6q', 'o4bd02ztq', 'o6baa1otq', 'o5hqd3ktq', 'o8wi06bgq', 'o5hy04i2q', 'o43b09b3q', 'o6cn08psq', 'o4wt01t0q', 'o66e01a1q', 'o5hya1qmq', 'oc1z10hxq', 'oc0v04dyq', 'o8wi02deq', 'o63d02q6q', 'o4bd01ycq', 'o4wm02ekq', 'o8ac41bhq', 'o5hqc5gyq', 'o6be02cgq', 'o5hqb3klq', 'o68903eyq', 'o4xm01hpq', 'oc1z07jtq', 'oc0va7obq', 'o6gj40dfq', 'o6cl11oxq', 'obro02nqq', 'o40q02noq', 'oc1z08edq', 'o6cl54ifq', 'o8ac40slq', 'o68901l8q', 'o43b14sfq', 'o6be15mbq', 'o43b2qxcq', 'o6jn04toq', 'o5ek01dyq', 'oc0vb3jkq', 'o6baa4clq', 'occgk1izq', 'o6cr03liq', 'o6baa7xkq', 'o6baa2ncq', 'o5cc05jjq', 'o6cn12y5q', 'o4bda5kaq', 'o43ba5c5q', 'o8k802g0q', 'o5hyb5ewq', 'o8wi01s1q', 'o66e05ljq', 'o6baa6sqq', 'oc1z05hgq', 'o8wi05haq', 'obrx16tvq', 'o5cc01osq', 'oc1z04bbq', 'obzm01qiq', 'o4hs01gjq', 'o5ek03bwq', 'o5hya5blq', 'obqd04hpq', 'o40q01a1q', 'oc1z14e4q', 'o66e11alq', 'o8wi11huq', 'o6cn04gdq', 'o6cl14lzq', 'o5hya1qiq', 'o68902xaq', 'o5hy02tuq', 'oc1z14eaq', 'o8wi04rtq', 'o6cn20ags', 'o68901ltq', 'o5e101g7q', 'o5hya4iiq', 'o4wm02ewq', 'o63d04ejq', 'o63d03duq', 'o8wi08b5q', 'o5g2e1c7q', 'o63d05gfq', 'oc1z11llq', 'o63d03dsq', 'o66e02k5q', 'obzm01qcq', 'obz505izq', 'o5cc04gmq', 'o6ba05b2q', 'o6gn04yeq', 'o43ba6bxq', 'o6gj40dhq', 'ocpl06o7q', 'o68903cqq', 'o5hyb3zdq', 'o5hqb5gwq', 'o6cn05o0q', 'obro01fdq', 'o6cn07ocq', 'o6cr03lmq', 'oc1z07jnq', 'o68903dsq', 'o6cn14wfq', 'o5g2c2xpq', 'obro02noq', 'o43ba3m4q', 'o8wi09muq', 'o5hyb5esq', 'o5hqb6pbq', 'o43ba4dwq', 'o8wi10bdq', 'o6cn09u7q', 'o6be03ygq', 'o5hy02u6q', 'o43b13s6q', 'obro02nsq', 'occgk4nkq', 'obroa1fqq', 'obhu11jlq', 'oc1z03y3q', 'ocpl01i5q', 'o8wi10bkq', 'obzm01qmq', 'o68902wrq', 'o6be06omq', 'obrx10p0q', 'obz508jfq', 'oc0va2wrq', 'o8wi02d3q', 'o5hyb5eoq', 'o6cn04gfq', 'o5hyd3zjq', 'oc1z12mqq', 'o5hya5brq', 'o6baa6teq', 'o66e02k9q', 'o5e101g3q', 'ocpl06o9q', 'o6baa2ntq', 'o63d54u7q', 'ochz04eaq', 'o8wi03dsq', 'o66e09ckq', 'obro01eqq', 'obhud1jsq', 'o6ba06siq', 'obhuh1c0q', 'ocpl07cmq', 'o5hya4i4q', 'obz501diq', 'o68901ktq', 'o6cn01ngq', 'o6cr01wbq', 'o8wi13llq', 'o8wi02cnq', 'obz508jhq', 'o5hya1quq', 'o5g2e2y2q', 'o4wt02bnq', 'o6gn01liq', 'o6cn06o6q', 'o5ek03byq', 'o40q01a7q', 'occgk3roq', 'o6bab7yaq', 'o5hyb5emq', 'ocpl05q8q', 'o66e06loq', 'o6baa1orq', 'oc0vb5ruq', 'o5hqd3krq', 'o8wi04rzq', 'o66e07lxq', 'o6cn18afq', 'o6be04z4q', 'o43b5hxiq', 'o6baa5bsq', 'oc0v05r9q', 'o5hy02u2q', 'obhuf1bzq', 'o5hrb1v4q', 'o40f01pnq', 'ocpl03r5q', 'o6be01osq', 'o5hya4igq', 'o5dta1tnq', 'o4wm02emq', 'o5dta2o0q', 'o6ba05aeq', 'o6cn16l4q', 'o6gn03aoq', 'o5hyb6ftq', 'o4bd04voq'])\n"
       ]
      }
     ],
     "prompt_number": 49
    },
    {
     "cell_type": "code",
     "collapsed": false,
     "input": [
      "print stis_rootnames_in_products"
     ],
     "language": "python",
     "metadata": {},
     "outputs": [
      {
       "output_type": "stream",
       "stream": "stdout",
       "text": [
        "set(['o67r02010', 'obg609010', 'o8v411040', 'o5d601030', 'oc1z09010', 'o45701040', 'o6c002050', 'objy03010', 'o57p03010', 'o49d01010', 'obiu01030', 'o5b688010', 'ocht1b010', 'o6cr01020', 'o50102010', 'ocai020a0', 'o53k01020', 'o5e304060', 'o8u602010', 'o5g702040', 'o6dr02020', 'ocih02010', 'obic01050', 'o6jl04010', 'o5bi07010', 'o44n02160', 'o44n021a0', 'o8q114010', 'o4x402050', 'o6nf02020', 'o4z102010', 'o4tg02020', 'oc2401020', 'ocai02070', 'o8q108010', 'ocbug2010', 'ocjp01010', 'o5b604020', 'obtl01030', 'o8h801010', 'ocbui2020', 'o8o001020', 'o4gt02020', 'o5g701020', 'o4v405020', 'o8u603010', 'ob58a1010', 'o8n001020', 'obhz02010', 'o6li0y010', 'o6jg02010', 'o6jh01050', 'o55g01020', 'o4v406020', 'o8sd02060', 'obhuc2010', 'o5e305040', 'o54w02020', 'o57p04010', 'o6gc01070', 'o4v403050', 'o5e302030', 'ob3s05020', 'o61s03030', 'oc1z03010', 'o4oj01020', 'o5g751020', 'o8ok01020', 'o67t53020', 'ob6bb0030', 'o5b602010', 'o64003030', 'o4x401050', 'o44n02180', 'ocht1b080', 'o5b606020', 'o40o01040', 'obpi10010', 'o4v703020', 'o6g107020', 'obhua1010', 'o6gc02070', 'occw11010', 'ob5k03020', 'o6c001040', 'o64003020', 'o4xm03030', 'objya1030', 'o6g104030', 'o4tg03020', 'oc1z02010', 'o6jh02050', 'o6g105010', 'obgi02010', 'o6gr03010', 'o5gg06070', 'o67d04020', 'o8q103010', 'o6g104010', 'ob6b20050', 'o5d601060', 'o5b668010', 'o6g103030', 'ocbi01010', 'o8ns05020', 'o5h905010', 'o6cv02050', 'o67d02080', 'o5hrb1010', 'ob6b54030', 'o61s02040', 'obie02010', 'o67t07020', 'o8u601010', 'o5hrb1030', 'ob3s07010', 'o5jh02010', 'oci802010', 'o5b611030', 'o57p02010', 'o5e309010', 'obzp01060', 'o4tg06030', 'o5b608010', 'obpi08010', 'o50152040', 'o4v403030', 'obrx18010', 'o8ns09020', 'o4tm01060', 'o6ja04010', 'o5e310050', 'ob6bc6030', 'o53y01010', 'ob6b25050', 'o61s04010', 'o6g106020', 'o4lm01050', 'ock116010', 'o4z102020', 'o4v452010', 'ob6bc7030', 'o5gg07060', 'o67t05020', 'o5g752050', 'o5gg06080', 'objyb1030', 'o6cv02020', 'o4dm02030', 'obpi06020', 'o4x403010', 'o8v4a1010', 'o4x404040', 'o4lm03010', 'o59k01020', 'o68302010', 'o4wt03020', 'o5h9a2020', 'ob4702040', 'o67d02010', 'o91p06010', 'ocjp02010', 'ocjpa8020', 'o6j726030', 'ocht2b090', 'objy01040', 'o4tg06010', 'obovs1010', 'o8o001010', 'ob6bc4030', 'o6gr16010', 'ock107010', 'o6c002010', 'o59216070', 'o44n010i0', 'o5jh31010', 'objyb1020', 'o4x402010', 'o5fo01010', 'o5dma2010', 'o53k01060', 'o4tg01030', 'o67t54020', 'ob6ba4030', 'o6cq1a020', 'o67d03010', 'ob4702030', 'o4xm02040', 'o4zp02020', 'ocjpa4010', 'objz01020', 'ob3s05010', 'o8o001030', 'o6c002080', 'obzp02050', 'o6jh01030', 'o8q102010', 'oc1f03020', 'ock7a2020', 'o4x402020', 'obk613010', 'o4wt06010', 'oc0e01030', 'o44n010h0', 'o8o002030', 'ob6b18020', 'ocai02090', 'o6c001070', 'o8fj01010', 'ob6ba5030', 'o65o010e0', 'o62w01020', 'oc6z01010', 'objya1040', 'o8ns02020', 'o67t06010', 'o5gg01030', 'objy03040', 'o5hra2040', 'o4zp01040', 'o57p03020', 'o8v4a2030', 'o8mz67010', 'ocht1b040', 'o4v404050', 'o6cr01010', 'o8u604010', 'o6au01040', 'o5g702010', 'o8h802010', 'o8ri01030', 'o4x401010', 'o6dr02050', 'obic01060', 'oc2h02030', 'obr403040', 'o8vk15010', 'o6ja05010', 'o4bm01020', 'o56o03020', 'o6nf02010', 'ock104020', 'oc2401010', 'ob5k02040', 'ob6ba9030', 'o4lm02010', 'o4zp02010', 'o8m301010', 'o6e203010', 'o5h9b2020', 'o44n010e0', 'o50152010', 'obr403030', 'obrx14010', 'ocbui1010', 'o4z101010', 'obws18010', 'ob58a1020', 'o6da01010', 'ob6b23050', 'ocbi01050', 'o5b661010', 'o5gg03020', 'o55g01010', 'o54w03010', 'o8vk14010', 'o4v408040', 'o58z02020', 'o4dm01020', 'o5h907010', 'o5g703020', 'o4gt02010', 'obzp01020', 'o6jc01040', 'o56o02020', 'ock104030', 'o4z301030', 'o5bi06010', 'o5gg01020', 'o59d01020', 'o6jg01020', 'o6g102030', 'o50101030', 'o5b602020', 'ob6b23030', 'o6ja07010', 'o67r04010', 'o4mu01010', 'o6gc02020', 'o5b688030', 'o5gg07080', 'o68302030', 'o4tg02010', 'o5h906010', 'o56o01030', 'o53y01050', 'o8mu03030', 'o4tg03010', 'o4v406030', 'o4v407030', 'o8q133010', 'o5g704030', 'o6j711040', 'o4v402020', 'o53k01080', 'o6g101030', 'o91p08010', 'o6j723040', 'objy11030', 'ock7a3010', 'o5d601010', 'oc2h03030', 'obws12010', 'o67r05010', 'o5h905060', 'o4v408030', 'obpi06010', 'o8vk04010', 'o6cv02060', 'o8vk17010', 'o53p01020', 'ocht2b050', 'o5dl01010', 'o6cv01030', 'o59k01060', 'o61s02030', 'obiu01020', 'o6jc01030', 'o5e307040', 'ob3s07020', 'o5d401030', 'o8sd01020', 'o5e309040', 'o5b608020', 'oc1f01010', 'o6dr01050', 'o61s04030', 'o8o002010', 'obws13010', 'o57p02040', 'o6e202030', 'ock125040', 'o49d01a20', 'ocai01010', 'o5e308010', 'o6e203030', 'o6jh02020', 'o4tm01050', 'objyb1060', 'o61s04040', 'o4v407040', 'o61s01030', 'obgh05010', 'oc2h01020', 'ob6bc2030', 'o4st01040', 'obzp02010', 'ocai01050', 'o4ze04010', 'o5d403030', 'o67d01010', 'obgi01010', 'o4v452020', 'o5ek04020', 'o4us01010', 'ocjpa7020', 'o5g752020', 'o8v4a1040', 'o44n010d0', 'o4x403020', 'o4x404030', 'o59k01010', 'o8fy02010', 'ob6b33030', 'o6cr02010', 'ob6ba6030', 'ob6b18040', 'o5jh05010', 'o47s01060', 'o5b609030', 'o6e201030', 'obhug1010', 'o5e306050', 'obhue1010', 'o50151040', 'o57p02030', 'o4ze01020', 'o6c002060', 'o5gg02060', 'o5e301030', 'obiu01040', 'o5b688020', 'o4x402040', 'o44n010j0', 'o6l102020', 'o5g702050', 'obrx17010', 'o8fy03010', 'ocai02040', 'o6cq1a010', 'o6jh02030', 'obie17010', 'o8h801020', 'o5b661020', 'o6nf02050', 'ob6b22070', 'o8vk02010', 'obz512010', 'objy03090', 'o5b604030', 'o5d602020', 'oc1f03030', 'ocjp02020', 'o4gt02030', 'oc1f02030', 'ock110010', 'o56o03030', 'o5g701010', 'o5ek04010', 'o8n001030', 'o5g751050', 'o57p01010', 'o6e204020', 'o8u604030', 'o64003040', 'o3xl08040', 'o4tg01040', 'o8vy01020', 'oc1f01020', 'o67d06030', 'o6j725040', 'o6cq05010', 'o50151030', 'o64002030', 'o61s03040', 'obgh07040', 'ob6ba7030', 'obie03010', 'o91p07010', 'o8xy01010', 'o6dr01010', 'obtl01040', 'ob5k03030', 'o6dr01030', 'o6c001050', 'o44n02190', 'oc1f01030', 'o5eo01030', 'obr403010', 'o8q128010', 'o65f02010', 'o4ze03020', 'obzp01050', 'o6gc02060', 'o4v703010', 'o49d02a10', 'o65f03010', 'oc2401040', 'o4z301040', 'o67r06010', 'o6c001030', 'o4xm03020', 'ob5k02030', 'o5h909010', 'o5d601050', 'o6jh02040', 'obzp01080', 'o54w04020', 'o5bi05010', 'o5h9b2010', 'o67d04030', 'o5h905020', 'o8sd01050', 'ob6b20040', 'o4v403040', 'o4oj01b30', 'o5eo02030', 'obie06010', 'o5bi03010', 'ob6b22030', 'ocbi01020', 'o40p01030', 'o5gg03010', 'o5h9a5020', 'o5dma1010', 'ock7a1010', 'o67d010b0', 'o4dm01010', 'o5e308020', 'ocht2b010', 'o5h907020', 'obzp01070', 'obrx04010', 'o67t04010', 'o5e303030', 'o8sd01060', 'ocdn03010', 'o4xm01070', 'o5d403040', 'o8sd02040', 'oc0v08010', 'o5b614050', 'o5hrb1060', 'o67d02020', 'objy11040', 'o6cr02020', 'o5kc01030', 'o52r01020', 'o47s01070', 'o68301030', 'o8u602020', 'o4v403010', 'o4wt05020', 'o4lm01040', 'o5b668020', 'o4v402010', 'o67t01020', 'o4tg07010', 'o5g752040', 'ob7b01010', 'obie05010', 'o67t05010', 'o4x401030', 'o6cv02030', 'o8ok01040', 'ocht2b060', 'o8ns10020', 'o4tg06020', 'o6nf06010', 'o4zea4010', 'occw08010', 'o4wt03010', 'o8mu02030', 'o5e303020', 'o5jh41010', 'o5do01010', 'o5hra2060', 'o50102040', 'oc1z07010', 'o4v405040', 'occw10010', 'o8o002020', 'o53k01050', 'o64001010', 'obie04010', 'o65f01010', 'oc0v09010', 'ob3s09010', 'o8ns40020', 'o4ze02010', 'objyb1010', 'objy01030', 'o56o01020', 'o6l101030', 'o6jg01040', 'obmca1020', 'o49d02a20', 'o5eo02020', 'o67d01040', 'o4ze04020', 'o5g701050', 'obtl02020', 'o56i01030', 'o6c002090', 'o5d602030', 'o67d05030', 'o8u603020', 'o8mu03020', 'o6jh01040', 'o6j724040', 'o5e310040', 'ocjpa8010', 'ock7a2010', 'o6c001060', 'oc2401030', 'o8ns06020', 'o8fj01020', 'obie14010', 'o4zea4020', 'o5e307010', 'obhub1010', 'o57p04040', 'o67t06020', 'o4xm01040', 'o50102030', 'o8pn03010', 'o5fo01020', 'objy03030', 'o57p03030', 'o6dr02040', 'obz509010', 'oc1z10010', 'obic01040', 'ocht1b030', 'o4mua2020', 'o6g103010', 'o5e304040', 'o8ri01020', 'obz510010', 'ocai02010', 'o6l102030', 'o5dma5010', 'o56o03040', 'obr403050', 'ocbui2010', 'obws19010', 'obrx10010', 'ob6b34030', 'o8m301020', 'o67t08010', 'o59216050', 'obws11010', 'o8u603030', 'o6da01050', 'obgh03010', 'o62w01030', 'oc1z11010', 'o58z020a0', 'o6c0010a0', 'o50152020', 'o5e305020', 'ob58a1030', 'o5gg07020', 'o61s02050', 'ock125020', 'o5ek06020', 'oc2h03020', 'o59k01050', 'o6jl01010', 'o5g701030', 'o6cv01020', 'o5b609020', 'o6g106030', 'o67r01010', 'o4dm01050', 'o6gc01050', 'o6g102020', 'o4zp01020', 'o61s03010', 'o4xm01030', 'o5b615010', 'o5bi02010', 'o6cv03030', 'objyb1050', 'o8ns04020', 'oc2h05020', 'o59d01030', 'o5h909040', 'o5b602030', 'o5b604010', 'obhui1010', 'oc1f01040', 'objya1050', 'obr403020', 'o40o01060', 'obhz02020', 'o4ze03010', 'o4v702010', 'o5e307020', 'obzp02090', 'o6nf06020', 'o53y01040', 'o8vy01010', 'o5hrb1040', 'ock7a3020', 'ob6bb5030', 'o6g105030', 'o68302020', 'o8mu02020', 'o6gr12010', 'o8iy23040', 'o58z02030', 'o4v402050', 'ob6b20030', 'o53p01030', 'o5b668030', 'o4dm02040', 'o4oj01030', 'oc0n01040', 'o56o02030', 'o61s02020', 'o4v408020', 'o5jh01010', 'ock7a1020', 'ob6bb7030', 'obhue2010', 'o5d401020', 'oci802030', 'o5gg07070', 'ocht2b020', 'oc1z06010', 'oc2a03010', 'obzp01040', 'o6jc01020', 'oc2h05030', 'o4wt04010', 'o67t04020', 'ob6ba1030', 'oc1z05010', 'o4mu01020', 'oci501010', 'obzp02040', 'obie07010', 'o4oj01a30', 'o5h911030', 'o4v404020', 'ocbui1020', 'o67r03010', 'o5dma8010', 'ob6bb6030', 'o4tm01040', 'o8vk16010', 'ock116030', 'o4v407050', 'o5b611020', 'o52r01010', 'o4v406050', 'o4wt05010', 'o5b603010', 'o6nf03020', 'o5d403020', 'oc1z04010', 'o6da01030', 'o4v452030', 'o56o01040', 'o4x404020', 'o5b605020', 'o8q105010', 'o67d05070', 'o6e205010', 'o5kr01010', 'ocai01090', 'o6gr14010', 'ob6b22040', 'o6c0020a0', 'ob6ba3030', 'ob6bb8030', 'o61s01050', 'ob6b33020', 'o5dma3010', 'ock110020', 'ocbug2020', 'o6c002070', 'ob6ba8030', 'o4lm02030', 'o4ze01010', 'o67t03020', 'o5bi09010', 'o6e201020', 'objya1060', 'obpi04010', 'o5do01020', 'o45701050', 'obgh07020', 'ob6bb2030', 'o64001020', 'o53k01030', 'ob4702050', 'o5ek02010', 'o44n010k0', 'o5g703030', 'o4fx03030', 'o4x402030', 'o6au01010', 'o6gc01060', 'ob6b18030', 'obrx12010', 'ocai02050', 'obie13010', 'obic01030', 'ob6bb1030', 'obzp02070', 'o4bm02020', 'o6nf05010', 'o6nf02040', 'o5e308040', 'o49wa1010', 'objy03080', 'obtl02010', 'obws16010', 'ocjp01030', 'o49d01a30', 'o6jh01010', 'o6l102010', 'oc1f02020', 'o6nf03010', 'o5b608040', 'oc1z12010', 'o5d601080', 'o5e306040', 'objy11010', 'o5d6010a0', 'ocjpa9010', 'ock125060', 'o8v411020', 'o6c001090', 'o5e302010', 'o6dr01040', 'o5g704040', 'o8n001010', 'o8vk07010', 'o4xm03080', 'o5g751040', 'o57p04030', 'o4tg04010', 'objy03060', 'o6dr01020', 'o5g752030', 'obws17010', 'o61s03050', 'o57p03040', 'o5eo01020', 'o8v4a2050', 'ocht1b060', 'o4usa1010', 'o4mua1010', 'o8q107010', 'o6l102040', 'o5e304010', 'o6gc02050', 'ob5k03040', 'o8ri01050', 'ob5k02020', 'ocai02020', 'o6nf04010', 'o4xm03050', 'o5gg02010', 'o5eo01010', 'o6e204010', 'o6cv01060', 'o50101020', 'objy11020', 'o6e205020', 'o6c001020', 'o4st01010', 'o6jl02010', 'o5d601040', 'o4tg03040', 'o5h909020', 'o56i01010', 'o5b661030', 'ock7a4010', 'o5h905030', 'o5b613010', 'o5gg06010', 'o6gr11010', 'o5e305010', 'oc1z01010', 'o4v407020', 'o8v411030', 'o5gg07010', 'o5h911040', 'o8fy01010', 'ock101010', 'ock125010', 'o6g105020', 'obi801020', 'o50151020', 'o5h9a5010', 'o50151010', 'o4z301010', 'ocht1b0a0', 'o64002020', 'o5h907030', 'o5b611010', 'o6jl03010', 'o5g703010', 'o5b615020', 'o5e306020', 'o8u601030', 'o5b614040', 'o49d01030', 'o5e310010', 'o91p03010', 'ocai01030', 'o5b612010', 'o50101010', 'o57p01020', 'o8sd02050', 'o68301020', 'o4tg06040', 'o61s01040', 'ocai01040', 'o5b609010', 'o91p05010', 'o5kc01020', 'o4st01030', 'o8iy23030', 'o56o01010', 'o53y01030', 'o49wa4010', 'o4xm03040', 'o8mu03010', 'ock107020', 'o4v406010', 'o4v403020', 'o8vk01010', 'o8mu02010', 'o8mz46010', 'ob6bc9030', 'o64002040', 'o4dm02010', 'o4tg01010', 'o8v4a1030', 'o4x404060', 'o6nf01020', 'oc0n01030', 'ocai01060', 'o67d06020', 'o4v404010', 'o5jh03010', 'o5d602010', 'o5d401010', 'ocht2b070', 'o8u604020', 'o4lm52020', 'o59k01040', 'ocjp09020', 'o67d07020', 'o54w04010', 'obxs01020', 'o5e307060', 'o6j726040', 'o5b601020', 'o5jh06010', 'o6jg02020', 'o5b605010', 'o4lm02020', 'o5g751010', 'o8vk13010', 'o4ze02020', 'o53k01040', 'o6e202010', 'ob6bd9020', 'o5jh04010', 'o6cv03020', 'o67d03030', 'ob3s12030', 'o4xm02020', 'o5eo01040', 'o5g704010', 'o8fy05010', 'o6j724030', 'obiu01010', 'o6l101020', 'o5b616010', 'o57fb1010', 'objy030a0', 'obgh08010', 'ob6bb4030', 'o67t02010', 'o8q113010', 'ob6ba0030', 'o4gt02040', 'o4v404030', 'o67d01030', 'o4tg04030', 'o4v452040', 'o67d05020', 'o4xm03010', 'o5d602040', 'obxs03020', 'o5kr01020', 'o44n010f0', 'o4x403040', 'obx701020', 'o8v411050', 'o5dl01020', 'o6j725030', 'obie10010', 'o64003010', 'o5b613020', 'o6c002040', 'o5kr01030', 'o8v4a2010', 'o67t03010', 'obpi04020', 'o50102020', 'obtl01010', 'objy03020', 'o8pn03020', 'o5g702030', 'o5b614020', 'o8ri01010', 'o6j712040', 'o6dr02030', 'o6g107010', 'obw0a1020', 'ob3s12040', 'obws15010', 'o5e304050', 'o6g103020', 'ocbug1020', 'o53y01060', 'o59216060', 'ocai02060', 'o6cq1a030', 'o4tg02040', 'o5dma6010', 'o6dr02010', 'o8m301030', 'o6nf05020', 'o6nf02030', 'o4v405050', 'o5dma7010', 'obtl02040', 'obrx06010', 'o6c002030', 'oc1f03010', 'o61s02010', 'o6g101020', 'o5eo02040', 'o4mua2010', 'o4wt06020', 'occw09010', 'o6bbb1020', 'o6j711030', 'o8ns08020', 'o5gg06060', 'ocai01020', 'o5ek02020', 'oc6z02010', 'o5e306010', 'ocjpa9020', 'o5ek06030', 'o67t07010', 'ocbuh3010', 'ock125050', 'o8fy06010', 'objya1010', 'ocjp09010', 'o4oj01c30', 'ock104010', 'o6cv01050', 'o4dm01040', 'o6e203020', 'o4zp01030', 'o4fx03020', 'o5e305060', 'ob6b21040', 'o5g703040', 'o61s03020', 'o5bi01010', 'o4x401040', 'ocht1b090', 'o6cv01040', 'obie16010', 'ob5k03010', 'o8n001040', 'objz02020', 'obzp010a0', 'o8sd02020', 'o8ns01020', 'ob5k02010', 'objy01020', 'o53k01010', 'o6da01040', 'objya1020', 'o40o01050', 'o67d07010', 'obzp02080', 'obxs01010', 'o67t54010', 'o6g101010', 'obrx02010', 'o6ja06010', 'o5d601070', 'o4tg03030', 'o56i01020', 'o4tg04040', 'o8iy23050', 'o4v402040', 'o5d402020', 'o6cv02040', 'o4dm02050', 'obic01020', 'o6c002020', 'o91p02010', 'o4v408010', 'oci802020', 'o4wt04020', 'o64002010', 'o4v702020', 'o5h907040', 'ob3s03010', 'o4xm01050', 'o8ns03020', 'o67d010a0', 'o67d07060', 'o5g702020', 'oc1z14010', 'o6jc01010', 'ocht1b020', 'o6au01030', 'o5g751030', 'o91p04010', 'o5e305050', 'o8sd01040', 'oc1z08010', 'o4v404040', 'o62w01010', 'objyb1040', 'o5h911020', 'o61s01010', 'o68301010', 'o5b668040', 'o5gg02020', 'o6gr15010', 'o6cr02040', 'o4st01060', 'o6ja01010', 'ock7a4020', 'o56i01040', 'ocht2b030', 'o61s04020', 'o4v406040', 'o5dl01030', 'ocjpa3010', 'o5jh21010', 'o6nf01010', 'obws20010', 'o5e301020', 'o5d403010', 'o4dm02020', 'o6ja03010', 'o4x404050', 'o40p01040', 'o5b610010', 'o8iy23020', 'ocai01080', 'o8q106010', 'o6j723030', 'o49d02010', 'ob6bb9030', 'obgh03020', 'ocht2b080', 'o4lm52010', 'o5h9a2010', 'o59k01030', 'o6j712030', 'o5gg01040', 'o5g704020', 'o5b601010', 'obie01010', 'o4st01070', 'ocht2b0a0', 'o5b688040', 'o50152030', 'o6au01020', 'o53k01070', 'o64001030', 'oc2h01030', 'o4lm52030', 'o5jh11010', 'o5g701040', 'ob4702020', 'obrx16010', 'o5gg010a0', 'oc1z13010', 'objy01010', 'ocjp01020', 'obzp02060', 'o5e303010', 'obgh08020', 'ocjpa4020', 'o5hra2030', 'o8q134010', 'o4xm01060', 'ock110030', 'o4v405010', 'o4v405030', 'o6g102010', 'ob4702010', 'ocai010a0', 'obzp02030', 'o56o02010', 'o8v4a2040', 'ocdn01010', 'o6jh01020', 'o4xm03070', 'obtl02030', 'obzp020a0', 'o5d402010', 'o57p04020', 'obx701010', 'o4lm01030', 'o56o03050', 'o6c001080', 'o4lm01020', 'ocai02080', 'ock107030', 'o4tm01070', 'o56o03010', 'obx901010', 'o4lm01010', 'o5dma4010', 'o4v7a1010', 'o67t53010', 'obtl01020', 'objy03050', 'o8ri01040', 'o49d02030', 'o44n02170', 'o5bi08010', 'o5b606010', 'o49wa2010', 'o49d02020', 'ocht1b050', 'oc2h02020', 'o4xm02010', 'o5b607010', 'o49wa3010', 'o8h802020', 'o5e304020', 'o8ok01010', 'ocbug1010', 'ocai02030', 'o6c001010', 'o49wa5010', 'o5hra2010', 'o8q152010', 'o4tg01020', 'o6e201010', 'o8v411010', 'o4fx03040', 'o67d04010', 'o4z101020', 'o5gg06020', 'ock101040', 'o4xm01080', 'o8sd01030', 'o5eo02010', 'o57p01040', 'o8sd02030', 'ob6b23040', 'o8u602030', 'ocbi01040', 'o8m301040', 'o6jg01010', 'o4z301020', 'o6da01020', 'obzp01030', 'o3xl08030', 'o4tg07030', 'ocdn02010', 'ocbuh3020', 'ocjpa3020', 'o8u601020', 'obgh07010', 'o5h911010', 'o6g106010', 'o4dm01030', 'o8vk08010', 'o49d02a30', 'obgh07030', 'o5e309020', 'o6jg01030', 'obzp01010', 'o8ns07020', 'o4v7a1020', 'o5d402030', 'oc2a06010', 'o5e302020', 'o5b614030', 'o59216080', 'ocdn12010', 'o6gc02030', 'o5bi04010', 'o57p01030', 'objz02010', 'ocjp02030', 'o53y01020', 'oc0e01010', 'ob6ba2030', 'o5b614010', 'o91p01010', 'o5b603020', 'o6g104020', 'oc1f02010', 'o44n010g0', 'o4st01020', 'o4xm03060', 'o5h906020', 'o5e301010', 'o6ja02010', 'o4zp01010', 'o5d601020', 'o5b608030', 'o6jh02010', 'oc0n01020', 'o5h905050', 'o5gg01010', 'obrx08010', 'o6l101040', 'o4v402030', 'o57f01010', 'o53p01010', 'o8v4a1020', 'o6cr02030', 'obhuc1010', 'o6ja08010', 'o5g704050', 'o5e308050', 'o5e307050', 'o6nf04020', 'ocht2b040', 'o5h909030', 'o5e309050', 'ocjp09030', 'o4tg07020', 'o4x403030', 'o6l101010', 'o50101040', 'o56o02040', 'o49d01a10', 'o6e202020', 'o4tg05020', 'ocht1b070', 'objy03070', 'o67d05010', 'o4x401020', 'o4tg02030', 'o8vk05010', 'o61s01020', 'obgh05020', 'o67t08020', 'o67d03020', 'o4v407010', 'o4xm02030', 'o5g703050', 'o4st01050', 'o67t02020', 'objz01010', 'o8ok01030', 'o5h905040', 'o61s04050', 'o4v452050', 'obzp01090', 'o5dl01040', 'obzp02020', 'o4tg04020', 'o8v4a2020', 'obxs03010', 'o49d01020', 'o67d01020', 'o5d601090', 'o4x403050', 'o8v4a1050', 'obrx19010', 'o67t01010', 'ob3s03020', 'ocjpa7010', 'o5g752010', 'o8fy04010', 'ocai01070', 'o67d06010', 'o57p02020', 'o5e310020', 'o4mu02010'])\n"
       ]
      }
     ],
     "prompt_number": 53
    },
    {
     "cell_type": "code",
     "collapsed": false,
     "input": [
      "print stis_rootnames_in_ingest"
     ],
     "language": "python",
     "metadata": {},
     "outputs": [
      {
       "output_type": "stream",
       "stream": "stdout",
       "text": [
        "set(['o67r02010', 'o8v411040', 'obro01f9q', 'o57p03010', 'o5b688010', 'o6cr01020', 'o63d01v7q', 'o5g702040', 'o6jl04010', 'o4x402050', 'o68302010', 'o8mz46010', 'o59216070', 'o65f02010', 'ocai02070', 'ob6bb1030', 'o5hqb7iaq', 'oc1f03020', 'o8h801010', 'o4v405020', 'o8n001020', 'o6li0y010', 'o8wi02ccq', 'o5e305040', 'o6baa7xmq', 'o6gc01070', 'o5e302030', 'o8fy01010', 'o4xm01hpq', 'ocht1b080', 'obie03010', 'obpi10010', 'o68903egq', 'o8wi02c6q', 'o5hrb1060', 'o40q01a3q', 'o5hy04hsq', 'o8k801qbq', 'o6cv02050', 'o61s02040', 'o67t07020', 'o6cn08pqq', 'ob3s07010', 'o5jh02010', 'o5jh03010', 'o66e01a3q', 'o50152040', 'ob6ba8030', 'o8wi02dkq', 'ob6bc6030', 'o53y01010', 'o5hya4icq', 'o5bi07010', 'ob6ba3030', 'o4lm01050', 'obhu31buq', 'o4v452010', 'ob6bc7030', 'o5b609010', 'obie16010', 'o5gg06080', 'o5hyb6fxq', 'o4x403010', 'o4x404040', 'o8wi09moq', 'o6nf02020', 'obx901010', 'o8wi13lrq', 'o43b14siq', 'ocht2b090', 'oc1z08edq', 'oc1z08ejq', 'o44n010i0', 'o6cq1a020', 'o5b610010', 'oc2aa4t0q', 'o6c002080', 'obzp02050', 'o49d02030', 'o8q102010', 'o66e02k9q', 'o43ba2h6q', 'ock7a2020', 'o63d05gdq', 'o5bi04010', 'o6c001070', 'o4xm03060', 'o4dm01010', 'o5hyb5euq', 'o8o001020', 'o5e308020', 'o5fo01010', 'o6au01040', 'o5g2g1cdq', 'obr403040', 'ochz03dwq', 'o66e03olq', 'o4zp02010', 'o8m301010', 'oc1z01010', 'o4z101010', 'obws18010', 'ob58a1020', 'o6da01010', 'o8wi06baq', 'ocbi01050', 'o4bd02zrq', 'oc2h03030', 'o54w03010', 'o6cl12exq', 'o5g703020', 'o5cc03d1q', 'ock104030', 'o4z301030', 'oc0va1r4q', 'o5gg01020', 'o59d01020', 'o6ba03utq', 'o5b614020', 'o8sd01060', 'o6gc02020', 'o56o01030', 'o6g105020', 'o6g101030', 'o5d601010', 'o66e02k7q', 'o6ba05biq', 'o4v408030', 'o5dl01010', 'o4zea4020', 'o6cl12evq', 'o5d401030', 'o57p02040', 'o5d402030', 'o5b608020', 'o5h909040', 'o5h911040', 'o6baa4d2q', 'o4v404030', 'o49d01a20', 'o8vk16010', 'o61s04040', 'o61s01030', 'obgh05010', 'o4st01040', 'occgk1izq', 'oc1z06ayq', 'o4tg03010', 'o67d01010', 'obgi01010', 'o4us01010', 'ocjpa7020', 'o8v4a1040', 'ock107030', 'o6cr02010', 'o4lm02020', 'o6e201030', 'obhue1010', 'o5b688020', 'o4x402040', 'oc0va6xjq', 'o5g702050', 'o5cc01oqq', 'ocai02040', 'o5cc03czq', 'oc0e01030', 'obie17010', 'o8h801020', 'o5hya5bnq', 'o6nf01010', 'oc1f03030', 'oc1f02030', 'o4v405030', 'obrx06010', 'o8n001030', 'o64003040', 'o8wi05h2q', 'ocht1b070', 'o91p07010', 'o8xy01010', 'obz503hbq', 'obie07010', 'o5e101g5q', 'o6jg02010', 'o67r06010', 'obzp01080', 'obz502jdq', 'o5jh31010', 'o4tg01030', 'ock7a1010', 'o43bb9bbq', 'o5h907020', 'occgk2cvq', 'o67t04010', 'o5hyc3zhq', 'o6ba05b0q', 'o6cn05o2q', 'obro01fmq', 'obtl01010', 'obz511yaq', 'o43ba6bzq', 'o6cn23leq', 'objy03020', 'o6gn01lgq', 'o52r01020', 'o4wt05020', 'o5hrb1viq', 'o5g704040', 'o4bd03awq', 'obi801020', 'o5hqb5guq', 'o6e201010', 'o6ba02n5q', 'oc1z09f4q', 'obro02nmq', 'o43ba3m6q', 'o4lm52030', 'o66e07lzq', 'o56o03040', 'o40f01q7q', 'o64001010', 'oc0v09010', 'o8ns40020', 'o4ze02010', 'occw09010', 'obzp02040', 'o8wi05haq', 'o4tg04020', 'o5dta2o6q', 'o5g752030', 'o4bd03ayq', 'o6bab7ycq', 'o6ba01olq', 'o6baa6t8q', 'o40q02nkq', 'o6c001060', 'o4xm03050', 'o5hyb6g1q', 'o5hya4i8q', 'o50102030', 'o8pn03010', 'o5fo01020', 'objy03030', 'obz509010', 'obiu01010', 'o5hyd3zlq', 'o5hqb7i8q', 'obz510010', 'obr403050', 'o8m301020', 'obws11010', 'o5hqa7i6q', 'o6c0010a0', 'o66e09cmq', 'ob3002fzq', 'ob58a1030', 'oc2h03020', 'o5g701030', 'o4z301020', 'ob3s03020', 'o6ba06s2q', 'o5b615010', 'o5g703050', 'occgk3r8q', 'o5b614010', 'o59d01030', 'o5gg01010', 'oc1f01040', 'objya1050', 'o5dta1u1q', 'o5e307020', 'occgk3raq', 'o6nf06020', 'ob6bb5030', 'o66e06lmq', 'o6g105030', 'o6gr12010', 'o5eo02040', 'o6g104030', 'oc0n01040', 'o4v408020', 'o5d401020', 'o91p06010', 'oc1z06010', 'oc1z05010', 'o57p02030', 'o5dta2nyq', 'o4oj01a30', 'o5h911030', 'o4v404020', 'o4xm02010', 'o61s04030', 'occgk4neq', 'o4wm02eoq', 'o4st01070', 'o43b2txkq', 'o67d05070', 'o6e205010', 'ock107020', 'oc1z12mjq', 'o8wi02d9q', 'obrx18010', 'o4lm02030', 'o67t03020', 'ob3001xqq', 'o5b688030', 'o8wi12r3q', 'obhua1010', 'o4x402030', 'ob6b18030', 'obrx12010', 'ocai02050', 'obie13010', 'o6cn16l2q', 'o43ba2h4q', 'o6nf05010', 'o6nf02040', 'o6cv01050', 'o49wa1010', 'oci501010', 'o49d01a30', 'oc1z11lfq', 'oc1f02020', 'ob6b25050', 'o6g105010', 'o5ek02010', 'o6baa7xoq', 'o5e306040', 'o5e302010', 'o8vk07010', 'o91p03010', 'ocht1b060', 'o4mua1010', 'o6cn22q4q', 'o6jg02020', 'o8ri01050', 'o6e204010', 'o5jh21010', 'o67t08020', 'oc0va4e0q', 'o5bi01010', 'ocpl05q6q', 'o8q106010', 'ock125010', 'o4tg01020', 'o6cn08psq', 'ocht1b0a0', 'o5h907030', 'o4wt01t0q', 'o66e01a1q', 'o5hya1qmq', 'oc1z10hxq', 'o4wt06010', 'o63d02q6q', 'o5g704050', 'o6jc01040', 'o4bd01ycq', 'o53y01030', 'o8ns01020', 'ob5k02010', 'o4x404060', 'o5b609030', 'obhud1jsq', 'oc0va7obq', 'ocht2b070', 'o8u604020', 'o6cv02020', 'o5b601020', 'o6cl54ifq', 'o5b605010', 'o4ze02020', 'ob3s12030', 'o6jn04toq', 'obgh08010', 'obzp02030', 'o8q113010', 'o5ek01dyq', 'o4tg04030', 'o5g752020', 'ob6b22070', 'o6c001050', 'o6c002040', 'oc0vb1raq', 'o6cn12y5q', 'o50102020', 'o43ba5c5q', 'o8k802g0q', 'o5hyb5ewq', 'o8pn03020', 'o53k01030', 'o6baa6sqq', 'oc1z05hgq', 'o4wt01t2q', 'o4hs01gjq', 'o5dma6010', 'o8m301030', 'o56o03050', 'o5dma7010', 'obqd04hpq', 'o40q01a1q', 'o5b604010', 'o66e11alq', 'o67t07010', 'ocjp09010', 'o67d06010', 'ock104010', 'o5g703040', 'o4x401040', 'ob5k03010', 'oc1z14eaq', 'o4xm03040', 'o68901ltq', 'objya1020', 'obxs01010', 'o5e307010', 'o6g101010', 'obrx02010', 'o5d601070', 'ob6bb8030', 'o56i01020', 'o6g104020', 'o63d05gfq', 'o63d03dsq', 'o66e02k5q', 'o6be04znq', 'o91p02010', 'o4v408010', 'o5dl01030', 'obz505izq', 'oc1z14010', 'o5cc04gmq', 'oc1z08010', 'o49wa2010', 'o61s01010', 'o4st01060', 'ock7a4020', 'o61s04020', 'o5d402010', 'ob6bb9030', 'o5h9a2010', 'o5b688040', 'o4x402020', 'o5ek06020', 'obhu11jlq', 'o6gr16010', 'oc1z03y3q', 'o6ja07010', 'o4v405010', 'o57p02020', 'o8wi10bkq', 'o5d602010', 'o4v404010', 'obzm01qmq', 'obx701010', 'o5e306050', 'ocai02080', 'oc0va2wrq', 'o8ri01040', 'o68902ycq', 'o5bi08010', 'o5h911020', 'ocht1b050', 'ocbug1010', 'o5e101g3q', 'o6baa2ntq', 'o6ba02mhq', 'o8v411010', 'o4xm01080', 'ob6ba0030', 'o6ba06siq', 'o6jg01010', 'o3xl08030', 'o6cr02040', 'o6cn13rbq', 'ocbuh3020', 'o4tg01010', 'o6cr01wbq', 'o8wi02cnq', 'o8n001010', 'o5g2e2y2q', 'o53y01020', 'o6cn23lbq', 'o5g704020', 'o5b609020', 'oc0vb3jkq', 'o53p01010', 'o8wi04rzq', 'objya1040', 'o66e07lxq', 'ocht2b040', 'o5hrb1030', 'o56o02040', 'objy03070', 'obhuf1bzq', 'o5hrb1v4q', 'o8ns07020', 'o6be01osq', 'o6nf02050', 'o5dta1tnq', 'o5dta2o0q', 'obzp02020', 'o6bab7yaq', 'o4tg05020', 'o5g752010', 'o5hyb6g3q', 'o8ac41bmq', 'o40q02nmq', 'oc1z09010', 'o45701040', 'o6c002050', 'oc1z01loq', 'obiu01030', 'o5hyd3znq', 'o50102010', 'ocai020a0', 'o53k01020', 'obzm01q2q', 'o6l102010', 'o4z102010', 'o43bc9bdq', 'o5dma2010', 'o4zp02020', 'ocjp01010', 'o5b604020', 'o5dma3010', 'o6baa4cjq', 'o4gt02020', 'o5g701020', 'oc2aa5sqq', 'ob58a1010', 'obhuc2010', 'o54w02020', 'o6ba06s0q', 'o4z301040', 'o67d06020', 'obrx17010', 'ob6bb0030', 'o4x401050', 'oc1f01020', 'o4v703020', 'o6gc02070', 'ob5k03020', 'o6c001040', 'o4xm03030', 'objya1030', 'o5hra2cfq', 'o6gr03010', 'oc1z02u2q', 'o6g104010', 'o5d601060', 'o6ja05010', 'o56i01030', 'o5hqb6p9q', 'ocpl02nzq', 'o5dl01020', 'obie02010', 'o8u601010', 'o8wi07kuq', 'o5hya4i4q', 'o5hqa6p7q', 'o57p02010', 'o67r03010', 'o6ja04010', 'o61s04010', 'occgk4ncq', 'o4st01010', 'ock7a4010', 'o5hqb3kjq', 'o67t05020', 'ob6bb7030', 'o43b2txmq', 'o8v4a1010', 'o4lm03010', 'o4wt03020', 'o5h9a2020', 'o67d02010', 'o5e303030', 'o8o001010', 'ob6bc4030', 'o4x402010', 'obtl01030', 'obqd03qwq', 'obrx17b5q', 'obrx16010', 'o6ba04bxq', 'ocpl02o6q', 'o5h911010', 'o5d602020', 'ocai02090', 'ob6b23050', 'o4mu02010', 'o6baa2neq', 'ocht1b040', 'o8u604010', 'objy01010', 'oc1z09faq', 'o8ri01030', 'o6dr02050', 'o8wi12qwq', 'obic01060', 'o8vk15010', 'o6cn22q2q', 'ob6ba9030', 'o4lm02010', 'ocbug2020', 'o6ba04cdq', 'o55001d7q', 'ob6ba4030', 'o6be15m9q', 'ob6ba5030', 'objy11040', 'o5h907010', 'o5hya1qoq', 'o5b602020', 'o63d02q4q', 'o5gg07080', 'o4bd01yeq', 'o53y01050', 'o5g704030', 'o63d04ehq', 'oc2a01sgq', 'o6j723040', 'o6gr14010', 'o5b668020', 'obws12010', 'o8k801qgq', 'o4xm01hrq', 'obpi06010', 'obqd01xuq', 'o53p01020', 'ocht2b050', 'obz507j7q', 'o5bi06010', 'o6dr01050', 'o56o02030', 'o6be03xzq', 'ocai01010', 'o4v407040', 'obzp02010', 'o5d403030', 'o4tg04010', 'o6jn04tmq', 'o59k01010', 'o6cn14whq', 'o43ba4duq', 'o47s01060', 'o6cn24l3q', 'o43ba5c7q', 'o5hyb5eqq', 'o6c002060', 'o6baa6ssq', 'o5hy02u4q', 'o4fx03020', 'o53k01010', 'o6cl11ogq', 'o4z102020', 'o6cn17wmq', 'o4hs01ghq', 'ocjp02020', 'o4gt02030', 'ock110010', 'o56o03030', 'o5g701010', 'o6gn03amq', 'obrx10p0q', 'o57p01010', 'o67d06030', 'obz508jfq', 'o6j725040', 'o5dta1tvq', 'o50151030', 'o6baa5boq', 'o6nf04020', 'ocjp09030', 'o8ok01010', 'ob5k03030', 'oc1f01030', 'o5hya5bpq', 'o6gc02060', 'o4v703010', 'oc2401040', 'o6c001030', 'o4xm03020', 'ob5k02030', 'o6baa3w3q', 'o5d601050', 'o4x403030', 'o8wi02csq', 'obhud2uaq', 'o8wi03dyq', 'obie06010', 'o66e02k3q', 'o67d010b0', 'ochz05ftq', 'o5cc04gkq', 'o6cl54idq', 'o8wi11i0q', 'o5kc01030', 'o6cn06o8q', 'o6jh02030', 'o67t01020', 'ob7b01010', 'o6ba07xeq', 'o67t05010', 'o67d02020', 'obpi04010', 'o8ns10020', 'o4wt03010', 'o5h905060', 'o5e303020', 'o5hra2060', 'o6baa5bqq', 'o8o002020', 'o65f01010', 'ochz08fyq', 'oc2a05soq', 'o63d54u7q', 'o6jn03bnq', 'o4ze04020', 'o5d602030', 'o66e11anq', 'o5hqc3knq', 'o5b613010', 'obzm01qkq', 'o5b612010', 'o8fy05010', 'o6dr02040', 'o5ek01e0q', 'ocht1b030', 'o6ba04boq', 'o8ri01020', 'o6l102030', 'o43ba1bnq', 'o5e101g1q', 'o63d54u5q', 'o8v411030', 'o67t08010', 'o6ba03v0q', 'oc0v03jgq', 'ocdn12010', 'oc1z11010', 'ock125020', 'obovs1010', 'o5hqc3kpq', 'o4zp01020', 'o8ns04020', 'o5b602030', 'obhui1010', 'o4ze03010', 'o4v702010', 'o53y01040', 'o6cn12y0q', 'ock101010', 'o53p01030', 'o5b668030', 'o6cr03lgq', 'o68902xrq', 'obpi06020', 'ocdn02010', 'ocht2b020', 'oc2a03010', 'obzp01040', 'o6ba01o5q', 'ob6ba1030', 'o56o02020', 'o8mz67010', 'obrx14gvq', 'o68901kkq', 'o4v407050', 'o4v406050', 'o5d403020', 'oc1z04010', 'o55001d9q', 'o8wi13llq', 'o8q105010', 'oc2aa2smq', 'o6be01oqq', 'ob6b22040', 'o6ba03voq', 'o6c002070', 'o47s01070', 'o5hyb6g5q', 'o5do01020', 'o4fx03030', 'o6au01010', 'o4wm02eyq', 'ob6bb4030', 'obws16010', 'ocjp01030', 'ocjp02030', 'o5b605020', 'o5d601080', 'ocpl07ckq', 'o5d6010a0', 'o6cv01040', 'ocjp09020', 'o6nf04010', 'o43be9bjq', 'o50151020', 'o6jl03010', 'o8v4a2050', 'o5e304010', 'o6gc02050', 'ob5k03040', 'ob5k02020', 'o4xm03010', 'objya1010', 'o6cn24l0q', 'o6e205020', 'o6c001020', 'o6gn01liq', 'o5d601040', 'o56i01010', 'o8sd02020', 'o6gr11010', 'o67d010a0', 'o5hqd3ktq', 'o5hy04i2q', 'objy03060', 'o43b09b3q', 'o5dl01040', 'o68902wrq', 'o8u601030', 'o50101010', 'o57p01020', 'o4tg06040', 'o61s01040', 'o5kc01020', 'o4st01030', 'o6jh02020', 'o67t01010', 'o4wm02ekq', 'o5h905040', 'o5hqc5gyq', 'ob6bc9030', 'o5hqb3klq', 'o8v4a1030', 'o5e308040', 'o5e303010', 'o6l102040', 'obxs01020', 'o40q02noq', 'o5e307060', 'o6j726040', 'o8o001030', 'o8ac40slq', 'o8o002030', 'o8mu03020', 'o68901l8q', 'ob6bd9020', 'o6be15mbq', 'o6j724030', 'oc0vb5ruq', 'o5d602040', 'obx701020', 'o6baa7xkq', 'o64003010', 'o5b613020', 'o6baa2ncq', 'o8u604030', 'o8wi01s1q', 'o8ri01010', 'o6j712040', 'o6dr02030', 'ocht1b020', 'o6nf02030', 'ocbug1020', 'obrx16tvq', 'obic01040', 'ocbui2010', 'o8v411020', 'o5ek03bwq', 'obtl02040', 'o5h907040', 'occgk4n6q', 'o6bbb1020', 'objy11020', 'oc6z02010', 'ocjpa9020', 'ocbuh3010', 'ock125050', 'o5g751010', 'o4zp01030', 'obhz02010', 'ob6b21040', 'o8ns08020', 'o5eo01010', 'o5hya1qiq', 'o68902xaq', 'obzp010a0', 'o8wi02deq', 'o5hya4iiq', 'o67d07010', 'o5g704010', 'o63d04ejq', 'o59216080', 'o8wi08b5q', 'obw0a1020', 'o5gg06060', 'oc1z11llq', 'o66e05ljq', 'ob4702040', 'ocht2b030', 'o4xm01050', 'obzp01050', 'o68301010', 'ocai01030', 'o4tg06010', 'o4v406040', 'o8iy23020', 'o6cn07ocq', 'o4dm02020', 'oc1z07jnq', 'o6cn14wfq', 'o8wi09muq', 'o59k01030', 'o5hyb5esq', 'o43ba4dwq', 'obie01010', 'objyb1030', 'o6au01020', 'o53k01070', 'o6cn09u7q', 'o5hy02u6q', 'o43b13s6q', 'o6ba05acq', 'o8vk04010', 'ocjp01020', 'o6cn17woq', 'o4gt02010', 'ock110030', 'o56o03010', 'ocpl01i5q', 'o56o02010', 'o8v4a2040', 'oc0n01030', 'o5jh05010', 'o8v4a2020', 'o5gg01040', 'o5hyb5eoq', 'o50151010', 'o5b608030', 'oc1f01010', 'oc1z12mqq', 'o5hya5brq', 'o6baa6teq', 'o49wa3010', 'o5e304020', 'o6c001010', 'o8wi03dsq', 'o3xl08040', 'obro01eqq', 'o8sd02030', 'o4mua2020', 'o8vk08010', 'obz501diq', 'o68901ktq', 'o8u601020', 'obgh07010', 'o4dm01030', 'o49d02a30', 'o8fy03010', 'o5hya1quq', 'o57p01030', 'objz02010', 'o50101020', 'ob6ba2030', 'o6cn06o6q', 'o61s01050', 'o4st01020', 'o5h906020', 'o4zp01010', 'o6jh02010', 'o5jh04010', 'o5h905050', 'o6baa1orq', 'o8v4a1020', 'obhuc1010', 'o5e308050', 'o5e307050', 'o5e309050', 'obws15010', 'o40f01pnq', 'o8ok01030', 'o5ek04010', 'o6ba05aeq', 'o5d601090', 'o6ja08010', 'o44n010g0', 'o6gn03aoq', 'o8fy04010', 'o6bba1ciq', 'o4oj01b30', 'ocht1b010', 'o5eo01030', 'obz503hdq', 'o6dr02020', 'ocih02010', 'obic01050', 'obro03nyq', 'o8q114010', 'objy01040', 'o6ba03v2q', 'o8q108010', 'ocbug2010', 'obz505j1q', 'ocbui2020', 'o5hra2040', 'obz502jbq', 'o5dta1tpq', 'objy03010', 'objy11030', 'o57p04010', 'ock125040', 'o5hqc5h0q', 'oc1z03010', 'o5g751020', 'o5b602010', 'obro01fkq', 'o44n02180', 'o5b606020', 'o6cn11vlq', 'o64003020', 'obgi02010', 'oc2a02skq', 'o5gg06070', 'o67d04020', 'o5b668010', 'o5gg07070', 'o5bi05010', 'o4xm01040', 'obzp01060', 'o4lm52020', 'o6cn13r9q', 'ocai01020', 'o5e310050', 'obro03nwq', 'o6nf03010', 'o8iy23030', 'o5g752050', 'obro02nqq', 'o4dm02030', 'o59k01020', 'ocjpa8020', 'o53y01060', 'obzm01qiq', 'obrx12ceq', 'o6c002010', 'o6gn02vhq', 'objyb1020', 'o6au01030', 'o53k01060', 'o67d03010', 'objz01020', 'ob3s05010', 'ocjp02010', 'o5hy02tyq', 'ock110020', 'obk613010', 'o6cr03lkq', 'o8fj01010', 'o8ns02020', 'o67t06010', 'o8v4a2030', 'o66e10uhq', 'o8ac40rwq', 'o5g2c1bzq', 'o4x401010', 'o43b14sfq', 'o4bm01020', 'o56o03020', 'o8vk01010', 'oc2401010', 'ob5k02040', 'o6ba02moq', 'o43ba1bpq', 'o55g01010', 'o8vk14010', 'o4v408040', 'o58z02020', 'o4dm01020', 'o6cv01030', 'oc0v01r0q', 'o49d02a20', 'o6cl14lxq', 'o50101030', 'o5hra2c1q', 'o67r04010', 'o4tg02010', 'o5h906010', 'ob6ba7030', 'o66e06lqq', 'o4wm02euq', 'o8q133010', 'o6gn02vfq', 'ock7a3010', 'o5hy02twq', 'o5g2e1c5q', 'o6ba01nwq', 'o6jc01030', 'o5e307040', 'o8sd01020', 'o5e309040', 'o8o002010', 'obws13010', 'o4tm01050', 'o6nf02010', 'o56o01040', 'o5hqa3khq', 'o5hyb3zfq', 'ob6bc2030', 'o5b603020', 'occgk3riq', 'o4ze04010', 'o5ek04020', 'o4oj01020', 'ob6b33030', 'ob6ba6030', 'ob6b18040', 'o5b616010', 'obxs03010', 'o6dr02010', 'o6nf03020', 'o5bi03010', 'o67t54010', 'obic01020', 'o8u602020', 'ocpl03r3q', 'ock107010', 'obz512010', 'occgk3rgq', 'o5hra2030', 'oc0va3jiq', 'o5hyb6fvq', 'ochz04eaq', 'o66e05lhq', 'o4tg01040', 'o5g751030', 'oc0v06xhq', 'oc0va5rmq', 'o6cq05010', 'o5hya1qkq', 'o44n02190', 'o6ba03vhq', 'o4ze03020', 'obrx19abq', 'obroa1foq', 'o64003030', 'o54w04020', 'o5h9b2010', 'o67d04030', 'o67t03010', 'o5gg07060', 'o5gg02010', 'o8wi02cyq', 'o5gg03010', 'o5h9a5020', 'o5g2c1c1q', 'ocht2b010', 'obzp01070', 'obrx04010', 'o6cn01niq', 'o55003dhq', 'o4xm01070', 'obz506jtq', 'o8ok01040', 'ocai01050', 'o68301030', 'o49d01030', 'o4v403010', 'o4v402010', 'o57fa2ioq', 'o5g752040', 'obie05010', 'ocht2b060', 'o6cv02030', 'o59k01050', 'oc1z07010', 'o6cn18adq', 'ocjpa8010', 'o5do01010', 'o6baa6soq', 'o50102040', 'o53k01050', 'o6cn09u5q', 'ob3s09010', 'oc1z05haq', 'objyb1010', 'o5jh01010', 'obmca1020', 'o5g701050', 'ocpl01i7q', 'ochz09qrq', 'o68903daq', 'o5e310040', 'occgk4n4q', 'o4usa1010', 'o59216060', 'o8ns06020', 'o8fj01020', 'obie14010', 'o67t06020', 'o4x401020', 'o6baa6tgq', 'oc1z03ybq', 'o5e304040', 'o5hya5btq', 'ob6b34030', 'o8u603030', 'o6c002020', 'o6ba05auq', 'o91p04010', 'o56i01040', 'o58z02030', 'ochz07p2q', 'o6gr15010', 'oc2a04syq', 'o6cv01020', 'o4dm01050', 'o61s03010', 'o5bi02010', 'obgh07030', 'o49d02a10', 'o5g2g1cbq', 'o50101040', 'obr403020', 'o40o01060', 'o43b13s4q', 'o6cn03ciq', 'o6jn03bpq', 'o4tg02020', 'ock7a3020', 'o6baa7y4q', 'ob6b20030', 'ob3s03010', 'ob6b23030', 'ochz06evq', 'o8ns09020', 'ob3s05020', 'o8k802fvq', 'oci802030', 'o6jc01020', 'o4wt04010', 'o8v411050', 'o4mu01020', 'o8wi02d3q', 'o5dma8010', 'ob6bb6030', 'o4tm01040', 'o5e305050', 'ock116030', 'o8wi11huq', 'o40f01plq', 'o5b603010', 'obrx04c6q', 'occgk4mxq', 'ob6b33020', 'o8wi08bdq', 'oc1z02twq', 'ob6bb2030', 'o6c002090', 'ob4702050', 'o4oj01c30', 'obic01030', 'obrx08dqq', 'o6ba07wyq', 'obtl02010', 'o6jh01010', 'oc1z12010', 'objy11010', 'ocjpa9010', 'ock125060', 'o4bd04vmq', 'o5g751040', 'o57p04030', 'obws17010', 'o57p03040', 'o5eo01020', 'o44n02160', 'o8wi02chq', 'o6cn11vnq', 'ocai02020', 'o5hqa5gsq', 'o6jl02010', 'o5b661030', 'o5gg06010', 'o5e305010', 'o5gg07010', 'o5gg02020', 'o5h9a5010', 'o4xm01060', 'o6g102010', 'o8n001040', 'o68301020', 'oc0v04dyq', 'ocai01040', 'o91p05010', 'o8vk05010', 'o4v407010', 'o49wa4010', 'o49d01020', 'o4v406010', 'o4v403020', 'o8mu02010', 'o6be02cgq', 'o4dm02010', 'o61s02010', 'o6cl11oxq', 'o59k01040', 'o67d07020', 'o54w04010', 'o5ek05lqq', 'o8vk13010', 'o53k01040', 'o6e202010', 'o67d03030', 'o6e203010', 'oc1z10010', 'o67t02010', 'o6baa4clq', 'o4gt02040', 'o5g701040', 'o4v452040', 'obxs03020', 'o5kr01020', 'o44n010f0', 'o6cr03liq', 'o4x403040', 'o8m301040', 'o6j725030', 'obie10010', 'o8v4a2010', 'o6g103010', 'obpi04020', 'o4bda5kaq', 'o4x401030', 'o6g107010', 'ob3s12040', 'o5e304050', 'o6g103020', 'oc2401030', 'oc1z04bbq', 'o62w01030', 'o8u603020', 'o6c002030', 'o4mua2010', 'o8sd02060', 'o6j711030', 'o6cn04gdq', 'obgh07020', 'o4oj01030', 'o4dm01040', 'obws20010', 'o5e305060', 'o6cl14lzq', 'o61s03020', 'objz02020', 'o6cn20ags', 'obr403030', 'o40o01050', 'o4wm02ewq', 'o4tg03030', 'o5g2e1c7q', 'o5hy02tuq', 'oci802020', 'o4wt04020', 'o64002010', 'obgh03010', 'o5b611020', 'o6jc01010', 'o8sd01040', 'o4tm01070', 'o4bd04voq', 'obzp020a0', 'o5dma5010', 'o67t54020', 'ocpl06o7q', 'oc2a06010', 'o68903cqq', 'o5hyb3zdq', 'o4v7a1010', 'obro01fdq', 'o8ns03020', 'o5g2c2xpq', 'o4tg02030', 'o67d07060', 'o4lm52010', 'o5hqb6pbq', 'ocjpa4010', 'o8wi10bdq', 'ob4702020', 'obro02nsq', 'occgk4nkq', 'obroa1fqq', 'ocjpa4020', 'o8q134010', 'o5hra2010', 'ocai010a0', 'o6jh01020', 'o67r01010', 'o57p04020', 'o5hqc6pfq', 'o6be06omq', 'o5g751050', 'o5dma4010', 'o44n02170', 'o5b606010', 'oc2h02020', 'o5b607010', 'o8h802020', 'ocai02030', 'ocpl06o9q', 'obz506jwq', 'o67d04010', 'o5gg06020', 'ock101040', 'obrx10010', 'o5b661020', 'o5b668040', 'obhuh1c0q', 'o5e306020', 'obrx08010', 'o6cn01ngq', 'o6g106010', 'o6ja01010', 'o6jg01030', 'obzp01010', 'obz508jhq', 'ob6b18020', 'o4v407020', 'o91p01010', 'o4v403030', 'o40q01a7q', 'o6ja02010', 'ocpl05q8q', 'o49d01010', 'o6l101040', 'o4v402030', 'o6cn18afq', 'o4v7a1020', 'o6e202020', 'o5hy02u2q', 'o67d03020', 'o4lm01010', 'o67t02020', 'objz01010', 'o5hya4igq', 'o4v452050', 'oc2h01030', 'o5d403010', 'o5e301010', 'o4x403050', 'o8u602010', 'o5kr01030', 'ocai01070', 'o5hyb6ftq', 'o5e310020', 'obg609010', 'o5hyb5ekq', 'o6g107020', 'o6g103030', 'o5e304060', 'oc0vb2wtq', 'o44n021a0', 'o5hya5bvq', 'oc2401020', 'ocai01080', 'o5hrb1010', 'o62w01020', 'o8u603010', 'o55g01020', 'o6j711040', 'obiu01020', 'o61s03030', 'o5hqc6pdq', 'o8ok01020', 'ocht2b080', 'o67t53020', 'o40o01040', 'o5hya1qqq', 'o4tg03020', 'oc1z02010', 'o6jh02050', 'o4tg07010', 'o8q103010', 'ob3003g5q', 'ob6b20050', 'o5eo02020', 'ocbi01010', 'o8ns05020', 'o5h905010', 'o67d02080', 'o6da01050', 'ob6b54030', 'o5hya5bjq', 'o5e308010', 'oci802010', 'o5b611030', 'o5e309010', 'o8k801pvq', 'o5b608010', 'obpi08010', 'o4tm01060', 'ock116010', 'o4tg02040', 'obz501dgq', 'oc1z13baq', 'o6bab1p6q', 'ob4702030', 'o4xm02040', 'o6cn03ceq', 'o6ba07wwq', 'obtl02030', 'o6jh01030', 'o8q152010', 'oc0v07o9q', 'o5gg010a0', 'o65o010e0', 'o6j726030', 'o4zp01040', 'o57p03020', 'o5cc05jhq', 'o5b661010', 'o6cr01010', 'o5g702010', 'o8h802010', 'o5eo01040', 'oc2h02030', 'o8sd01050', 'o68302020', 'obrx19010', 'o5h9b2020', 'o50152010', 'obrx14010', 'o6cl13a1q', 'occgk2dfq', 'o5gg03020', 'o91p08010', 'o6ba01o3q', 'o4wt02bpq', 'o6jg01020', 'o6g102030', 'o8vy01020', 'o4v407030', 'o8mu03030', 'o4v406030', 'o4v403040', 'o4v402020', 'o6be02ceq', 'obzp01020', 'o5d403040', 'o67r05010', 'o8mu02030', 'obro02nuq', 'o8vk17010', 'oc1z13b4q', 'o59k01060', 'o61s02030', 'oc0vb4e2q', 'ob3s07020', 'o6e202030', 'o6e203030', 'objyb1060', 'o6gn04ygq', 'oc2h01020', 'o6j723030', 'o43b2sxiq', 'o4v452020', 'o5e310010', 'o6ba03vqq', 'o4x403020', 'o4x404030', 'o5cc02a3q', 'o8fy02010', 'ocai01060', 'obhug1010', 'o4bda5kcq', 'o50151040', 'o4ze01020', 'occgk3r2q', 'o44n010j0', 'o5cc06k1q', 'o6cq1a010', 'o62w01010', 'o8vk02010', 'objy03090', 'obgh03020', 'ock7a2010', 'o6cn04gfq', 'o5dta2ocq', 'oc1z01luq', 'o61s03040', 'obgh07040', 'o6dr01010', 'obtl01040', 'o6dr01030', 'o55002ddq', 'obr403010', 'o8q128010', 'o6cn20ais', 'o65f03010', 'o5h909010', 'o6jh02040', 'o4wm02eqq', 'o5h905020', 'ob6b20040', 'o6da01040', 'o5eo02030', 'ocbi01020', 'o40p01030', 'o5dma1010', 'o64002030', 'o5g703010', 'o8wi07koq', 'o4mu01010', 'o5ek05lsq', 'o8sd02040', 'o66e10ufq', 'o5b614050', 'o6cr02020', 'oc1z04b4q', 'o5hyb3zbq', 'o43b2rxeq', 'o6e201020', 'oc0v02wpq', 'oc0v08010', 'o6ba02mqq', 'o4tg06020', 'o4zea4010', 'occw08010', 'o5jh41010', 'o6cl14lvq', 'o4v405040', 'o4v702020', 'o8wi01s7q', 'obie04010', 'o6cv03030', 'objy01030', 'o6l101030', 'o6cv02060', 'o67d01040', 'obtl02020', 'o67d05030', 'o6jh01040', 'o8k801pqq', 'obrx18hbq', 'obz507j9q', 'o66e09ckq', 'obhub1010', 'o57p04040', 'o63d01v5q', 'o57p03030', 'objy030a0', 'oc1z10hrq', 'o5g702020', 'ocai02010', 'o8sd01030', 'o68302030', 'o59216050', 'o6nf01020', 'o68903dsq', 'o58z020a0', 'o6ba04bvq', 'o50152020', 'o5e305020', 'o5gg07020', 'o5cc06jzq', 'oc7u03scq', 'o6jl01010', 'o6g106030', 'o6gc01050', 'o6g102020', 'o4xm01030', 'obzp01030', 'obrx02evq', 'obhz02020', 'o40q01a5q', 'obzp02090', 'o4hs01gfq', 'o8vy01010', 'o5hrb1040', 'o4v406020', 'o4v403050', 'o8mu02020', 'o8iy23040', 'o4v402050', 'o4dm02040', 'o61s02020', 'oc1z06b4q', 'ock7a1020', 'obhue2010', 'oc2h05030', 'o67t04020', 'o6cr01x3q', 'ob6b22030', 'o5hqe3kvq', 'objyb1050', 'ocbui1020', 'o6e203020', 'o6cl11ooq', 'o5hya4iaq', 'o52r01010', 'o4wt05010', 'o4lm01030', 'o5e301030', 'o4v452030', 'o4x404020', 'obhu32twq', 'o5kr01010', 'ocai01090', 'o5hyb6fzq', 'o44n010e0', 'o6c0020a0', 'o6dr01040', 'o66e04tpq', 'o4ze01010', 'o6cl54ibq', 'o64001020', 'o6gn04y9q', 'obrx06j5q', 'o44n010k0', 'oc7u02g2q', 'obzp02070', 'o4bm02020', 'objy03080', 'o49d02010', 'o5b608040', 'objya1060', 'o6cn07oeq', 'o6c001090', 'o4xm03080', 'o6cv01060', 'o66e04tnq', 'o6dr01020', 'o61s03050', 'obhu21btq', 'o8q107010', 'oc2aa1siq', 'o5hqe3kxq', 'o4fx03040', 'o5hya1qsq', 'o66e03onq', 'o4tg03040', 'o5h909020', 'o4bd02ztq', 'o5h905030', 'o6baa1otq', 'ocdn03010', 'o6da01030', 'o8wi06bgq', 'o6gj40dhq', 'ocjpa3010', 'o40p01040', 'o4z301010', 'o64002020', 'o5b611010', 'o5b615020', 'o5b614040', 'o44n010d0', 'o8sd02050', 'o6cr02030', 'o6nf06010', 'o56o01010', 'o5d601030', 'o8ac41bhq', 'o68903eyq', 'o6g101020', 'oc1z07jtq', 'o5d401010', 'o6gj40dfq', 'o4tg06030', 'oc1z13010', 'o4tg07030', 'oc1f02010', 'o49wa5010', 'o4v404050', 'o6cv03020', 'ob4702010', 'o4xm02020', 'o43b2qxcq', 'objy01020', 'o6l101020', 'o57fb1010', 'o67d01030', 'o67d05020', 'o6jh01050', 'o45701050', 'o6e204020', 'o5cc05jjq', 'o5hqd3krq', 'ocht2b0a0', 'o5g702030', 'o6j724040', 'o5cc01osq', 'ocai02060', 'o6nf05020', 'o5hya5blq', 'o4v405050', 'oc1f03010', 'obiu01040', 'o5gg02060', 'o4wt06020', 'o5ek02020', 'o6cl13a3q', 'o5e306010', 'o5ek06030', 'o6gc01060', 'o5e302020', 'o8fy06010', 'o6g106020', 'o6l102020', 'obzp01090', 'o6j712030', 'ocht1b090', 'o64002040', 'o8wi04rtq', 'o5e101g7q', 'obzp02080', 'o63d03duq', 'o6ja06010', 'o43b5hxiq', 'o8iy23050', 'oc1z14e4q', 'o4v402040', 'o6baa5bsq', 'o6cv02040', 'o4dm02050', 'o61s02050', 'obzm01qcq', 'o6cn05o0q', 'o5jh06010', 'oc2h05020', 'o50152030', 'o6ba05b2q', 'objyb1040', 'o6gn04yeq', 'o43ba6bxq', 'ocbui1010', 'o4lm01020', 'o6be04z4q', 'o5hqb5gwq', 'o5e301020', 'o6cr03lmq', 'o4x404050', 'o4lm01040', 'obro02noq', 'o5b604030', 'o43ba3m4q', 'o5cc02a1q', 'o5b601010', 'o64001030', 'o6be03ygq', 'o5jh11010', 'o6cq1a030', 'o44n010h0', 'obzp02060', 'obgh08020', 'o6jg01040', 'o4tg04040', 'o53k01080', 'o5bi09010', 'ocdn01010', 'o49d02020', 'o4xm03070', 'occw11010', 'occw10010', 'o6c001080', 'o43b5hxgq', 'o67t53010', 'obtl01020', 'objy03050', 'o5hyd3zjq', 'o4wm02esq', 'occgk1itq', 'o4z101020', 'o5eo02010', 'o57p01040', 'ob6b23040', 'o8u602030', 'ocbi01040', 'ocpl07cmq', 'o6da01020', 'ocjpa3020', 'ock104020', 'o5gg01030', 'o5e309020', 'o5g703030', 'objy03040', 'o5b614030', 'o6gc02030', 'o4wt02bnq', 'oc0e01010', 'o56o01020', 'o5ek03byq', 'occgk3roq', 'o5hyb5emq', 'o5d601020', 'o66e06loq', 'oc0n01020', 'o6be06p3q', 'o5h909030', 'o5d402020', 'oc0v05r9q', 'oc6z01010', 'o4tg07020', 'o4v404040', 'o49d01a10', 'o6ja03010', 'o6cn16l4q', 'o61s01020', 'obgh05020', 'o6l101010', 'o4xm02030', 'o4st01050', 'ocpl03r5q', 'o61s04050', 'o4wm02emq', 'o8mu03010', 'o67d01020', 'o57f01010', 'o8v4a1050', 'ocjpa7010', 'o67d05010', 'obws19010'])\n"
       ]
      }
     ],
     "prompt_number": 54
    },
    {
     "cell_type": "code",
     "collapsed": false,
     "input": [],
     "language": "python",
     "metadata": {},
     "outputs": []
    }
   ],
   "metadata": {}
  }
 ]
}