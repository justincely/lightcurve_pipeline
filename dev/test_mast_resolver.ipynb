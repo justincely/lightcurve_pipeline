{
 "cells": [
  {
   "cell_type": "code",
   "execution_count": 1,
   "metadata": {
    "collapsed": true
   },
   "outputs": [],
   "source": [
    "from lightcurve_pipeline.utils.utils import SETTINGS\n",
    "from lightcurve_pipeline.database.database_interface import session\n",
    "from lightcurve_pipeline.database.database_interface import Metadata\n",
    "from xml.dom import minidom\n",
    "import urllib2"
   ]
  },
  {
   "cell_type": "code",
   "execution_count": 2,
   "metadata": {
    "collapsed": true
   },
   "outputs": [],
   "source": [
    "query = session.query(Metadata.targname).all()\n",
    "targnames = set([result[0] for result in query])\n",
    "coords_list = []"
   ]
  },
  {
   "cell_type": "code",
   "execution_count": 3,
   "metadata": {
    "collapsed": false
   },
   "outputs": [],
   "source": [
    "for targname in targnames:\n",
    "    web_string = 'http://mastresolver.stsci.edu/Santa-war/query?name={}'.format(targname)\n",
    "    try:\n",
    "        xmldoc = minidom.parse(urllib2.urlopen(web_string))\n",
    "        ra = str(xmldoc.getElementsByTagName('ra')[0].childNodes[0].data)\n",
    "        dec = str(xmldoc.getElementsByTagName('dec')[0].childNodes[0].data)\n",
    "    except:\n",
    "        ra = 'NA'\n",
    "        dec = 'NA'\n",
    "        \n",
    "    coords = (ra, dec)\n",
    "    coords_list.append(coords)"
   ]
  },
  {
   "cell_type": "code",
   "execution_count": 4,
   "metadata": {
    "collapsed": false
   },
   "outputs": [
    {
     "name": "stdout",
     "output_type": "stream",
     "text": [
      "NGC3516 ('166.69788', '72.56858')\n",
      "Q2128-123 ('322.89692', '-12.118')\n",
      "MRK-509 ('311.04058', '-10.72348')\n",
      "NGC-4395 ('186.45359', '33.54693')\n",
      "AV75 ('12.63496', '-72.87681')\n",
      "NGC-3516 ('166.69788', '72.56858')\n",
      "IRAS-F04250-5718 ('66.50302', '-57.20027')\n",
      "HD39801 ('88.79293899', '7.407064')\n",
      "BETELGEUSE ('88.79293899', '7.407064')\n",
      "V822CEN ('224.59141', '-31.66858')\n",
      "RBS542 ('66.50302', '-57.20027')\n",
      "NGC4395 ('186.45359', '33.54693')\n",
      "CENX-4 ('224.59141', '-31.66858')\n",
      "MRK421 ('166.11381', '38.20883')\n",
      "PHL1598 ('322.89692', '-12.118')\n",
      "MARK509 ('311.04058', '-10.72348')\n",
      "AZV75 ('12.63496', '-72.87681')\n",
      "MRK-0421 ('166.11381', '38.20883')\n"
     ]
    }
   ],
   "source": [
    "sucessful_coords_list = []\n",
    "for targname, coords in zip(targnames, coords_list):\n",
    "    if coords != ('NA', 'NA'):\n",
    "        if coords_list.count(coords) > 1:\n",
    "            print targname, coords"
   ]
  },
  {
   "cell_type": "code",
   "execution_count": null,
   "metadata": {
    "collapsed": true
   },
   "outputs": [],
   "source": []
  }
 ],
 "metadata": {
  "kernelspec": {
   "display_name": "Python 2",
   "language": "python",
   "name": "python2"
  },
  "language_info": {
   "codemirror_mode": {
    "name": "ipython",
    "version": 2
   },
   "file_extension": ".py",
   "mimetype": "text/x-python",
   "name": "python",
   "nbconvert_exporter": "python",
   "pygments_lexer": "ipython2",
   "version": "2.7.10"
  }
 },
 "nbformat": 4,
 "nbformat_minor": 0
}
